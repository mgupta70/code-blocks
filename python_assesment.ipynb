{
 "cells": [
  {
   "cell_type": "code",
   "execution_count": 2,
   "id": "d5650acb-a92c-4a0e-b996-c321b28c21a5",
   "metadata": {},
   "outputs": [],
   "source": [
    "import numpy as np"
   ]
  },
  {
   "cell_type": "markdown",
   "id": "37bdd8fd-c37e-4b3b-8cd0-b0979f0f7d08",
   "metadata": {},
   "source": [
    "### 1. binning\n",
    "- numpy - https://jakevdp.github.io/PythonDataScienceHandbook/02.07-fancy-indexing.html"
   ]
  },
  {
   "cell_type": "code",
   "execution_count": 3,
   "id": "d978fa1b-10aa-4d0c-9c50-521f397a60dc",
   "metadata": {},
   "outputs": [
    {
     "data": {
      "text/plain": [
       "array([ 0.49671415, -0.1382643 ,  0.64768854,  1.52302986, -0.23415337,\n",
       "       -0.23413696,  1.57921282,  0.76743473, -0.46947439,  0.54256004,\n",
       "       -0.46341769, -0.46572975,  0.24196227, -1.91328024, -1.72491783,\n",
       "       -0.56228753, -1.01283112,  0.31424733, -0.90802408, -1.4123037 ,\n",
       "        1.46564877, -0.2257763 ,  0.0675282 , -1.42474819, -0.54438272,\n",
       "        0.11092259, -1.15099358,  0.37569802, -0.60063869, -0.29169375,\n",
       "       -0.60170661,  1.85227818, -0.01349722, -1.05771093,  0.82254491,\n",
       "       -1.22084365,  0.2088636 , -1.95967012, -1.32818605,  0.19686124,\n",
       "        0.73846658,  0.17136828, -0.11564828, -0.3011037 , -1.47852199,\n",
       "       -0.71984421, -0.46063877,  1.05712223,  0.34361829, -1.76304016,\n",
       "        0.32408397, -0.38508228, -0.676922  ,  0.61167629,  1.03099952,\n",
       "        0.93128012, -0.83921752, -0.30921238,  0.33126343,  0.97554513,\n",
       "       -0.47917424, -0.18565898, -1.10633497, -1.19620662,  0.81252582,\n",
       "        1.35624003, -0.07201012,  1.0035329 ,  0.36163603, -0.64511975,\n",
       "        0.36139561,  1.53803657, -0.03582604,  1.56464366, -2.6197451 ,\n",
       "        0.8219025 ,  0.08704707, -0.29900735,  0.09176078, -1.98756891,\n",
       "       -0.21967189,  0.35711257,  1.47789404, -0.51827022, -0.8084936 ,\n",
       "       -0.50175704,  0.91540212,  0.32875111, -0.5297602 ,  0.51326743,\n",
       "        0.09707755,  0.96864499, -0.70205309, -0.32766215, -0.39210815,\n",
       "       -1.46351495,  0.29612028,  0.26105527,  0.00511346, -0.23458713])"
      ]
     },
     "execution_count": 3,
     "metadata": {},
     "output_type": "execute_result"
    }
   ],
   "source": [
    "np.random.seed(42)\n",
    "x = np.random.randn(100)\n",
    "x"
   ]
  },
  {
   "cell_type": "code",
   "execution_count": 4,
   "id": "4ca350b0-7add-4d94-ba50-8a7633a14eaf",
   "metadata": {},
   "outputs": [
    {
     "data": {
      "text/plain": [
       "array([-5.        , -4.47368421, -3.94736842, -3.42105263, -2.89473684,\n",
       "       -2.36842105, -1.84210526, -1.31578947, -0.78947368, -0.26315789,\n",
       "        0.26315789,  0.78947368,  1.31578947,  1.84210526,  2.36842105,\n",
       "        2.89473684,  3.42105263,  3.94736842,  4.47368421,  5.        ])"
      ]
     },
     "execution_count": 4,
     "metadata": {},
     "output_type": "execute_result"
    }
   ],
   "source": [
    "bins = np.linspace(-5, 5, 20)\n",
    "bins"
   ]
  },
  {
   "cell_type": "code",
   "execution_count": 10,
   "id": "d6d2fe0c-57e2-43db-b591-a3df9f39cb54",
   "metadata": {},
   "outputs": [
    {
     "data": {
      "text/plain": [
       "array([0., 0., 0., 0., 0., 0., 0., 0., 0., 0., 0., 0., 0., 0., 0., 0., 0.,\n",
       "       0., 0., 0.])"
      ]
     },
     "execution_count": 10,
     "metadata": {},
     "output_type": "execute_result"
    }
   ],
   "source": [
    "counts = np.zeros_like(bins)\n",
    "counts"
   ]
  },
  {
   "cell_type": "code",
   "execution_count": 11,
   "id": "be0a9e67-e303-4b5a-bb4a-b6a6611a3dd2",
   "metadata": {},
   "outputs": [
    {
     "data": {
      "text/plain": [
       "array([11, 10, 11, 13, 10, 10, 13, 11,  9, 11,  9,  9, 10,  6,  7,  9,  8,\n",
       "       11,  8,  7, 13, 10, 10,  7,  9, 10,  8, 11,  9,  9,  9, 14, 10,  8,\n",
       "       12,  8, 10,  6,  7, 10, 11, 10, 10,  9,  7,  9,  9, 12, 11,  7, 11,\n",
       "        9,  9, 11, 12, 12,  8,  9, 11, 12,  9, 10,  8,  8, 12, 13, 10, 12,\n",
       "       11,  9, 11, 13, 10, 13,  5, 12, 10,  9, 10,  6, 10, 11, 13,  9,  8,\n",
       "        9, 12, 11,  9, 11, 10, 12,  9,  9,  9,  7, 11, 10, 10, 10],\n",
       "      dtype=int64)"
      ]
     },
     "execution_count": 11,
     "metadata": {},
     "output_type": "execute_result"
    }
   ],
   "source": [
    "i = np.searchsorted(bins, x)\n",
    "i"
   ]
  },
  {
   "cell_type": "code",
   "execution_count": 12,
   "id": "bfd28b50-11b4-487c-b62a-a1aaeef4a54e",
   "metadata": {},
   "outputs": [
    {
     "data": {
      "text/plain": [
       "array([ 0.,  0.,  0.,  0.,  0.,  1.,  3.,  7.,  9., 23., 22., 17., 10.,\n",
       "        7.,  1.,  0.,  0.,  0.,  0.,  0.])"
      ]
     },
     "execution_count": 12,
     "metadata": {},
     "output_type": "execute_result"
    }
   ],
   "source": [
    "np.add.at(counts, i, 1)\n",
    "counts"
   ]
  },
  {
   "cell_type": "code",
   "execution_count": null,
   "id": "e92ffd1a-2c42-453a-ba8b-a2a62595da42",
   "metadata": {},
   "outputs": [],
   "source": []
  },
  {
   "cell_type": "code",
   "execution_count": null,
   "id": "2d3fea7b-59f8-4097-b117-25ec19942cca",
   "metadata": {},
   "outputs": [],
   "source": []
  },
  {
   "cell_type": "code",
   "execution_count": null,
   "id": "c47676ce-08d8-4579-9433-b23871c5a73a",
   "metadata": {},
   "outputs": [],
   "source": []
  },
  {
   "cell_type": "markdown",
   "id": "e20c405e-e99d-4d2a-9457-f6cbbf46ba6e",
   "metadata": {},
   "source": [
    "### 2. Sorting - insertion sorts, selection sorts, merge sorts, quick sorts, bubble sorts\n",
    "- https://jakevdp.github.io/PythonDataScienceHandbook/02.08-sorting.html"
   ]
  },
  {
   "cell_type": "code",
   "execution_count": 15,
   "id": "1c80a442-c9e6-482a-8599-800da37af12c",
   "metadata": {},
   "outputs": [
    {
     "name": "stdout",
     "output_type": "stream",
     "text": [
      "0\n",
      "4\n",
      "4\n",
      "3\n",
      "6\n",
      "6\n",
      "6\n",
      "[0 1 2 3 4 5 6]\n",
      "3\n",
      "3\n",
      "2\n",
      "5\n",
      "5\n",
      "5\n",
      "[1 2 3 4 5 6]\n"
     ]
    }
   ],
   "source": [
    "## selection sort: given array sort in increasing order\n",
    "\n",
    "\n",
    "def selection_sort_numpy(x):\n",
    "    for i in range(len(x)):\n",
    "        swap = i + np.argmin(x[i:])\n",
    "        #print(swap)\n",
    "        x[i], x[swap] = x[swap], x[i]\n",
    "    return x\n",
    "\n",
    "\n",
    "mylist1 = [0,2,5,3,1,6,4]\n",
    "mylist2 = [2,5,3,1,6,4]\n",
    "\n",
    "print(selection_sort_numpy(np.array(mylist1)))\n",
    "print(selection_sort_numpy(np.array(mylist2)))"
   ]
  },
  {
   "cell_type": "markdown",
   "id": "6aac9773-f9bf-4379-a23a-06c1b3c74f64",
   "metadata": {},
   "source": [
    "### 3. list comprehension\n",
    "### 4. Dictionary"
   ]
  },
  {
   "cell_type": "markdown",
   "id": "e595ef12-1abd-4feb-be00-c5b7beffddb0",
   "metadata": {},
   "source": [
    "### 5. Pandas Assessment\n",
    "- https://jakevdp.github.io/PythonDataScienceHandbook/03.07-merge-and-join.html\n",
    "- join, merge, common df, intersection df, grouping, reset index, duplicates, nans, fillnans, dropna, dummies, scaling, datetime, time features, feature engg, mix type dtypes in columns, outliers, masking, condition across 1 or more columns"
   ]
  },
  {
   "cell_type": "code",
   "execution_count": 16,
   "id": "292065ee-fb11-43fc-a45d-9752d01535af",
   "metadata": {},
   "outputs": [],
   "source": [
    "import pandas as pd"
   ]
  },
  {
   "cell_type": "code",
   "execution_count": 17,
   "id": "062233e5-3ead-4953-a22d-c57260896065",
   "metadata": {},
   "outputs": [
    {
     "data": {
      "text/html": [
       "<div>\n",
       "<style scoped>\n",
       "    .dataframe tbody tr th:only-of-type {\n",
       "        vertical-align: middle;\n",
       "    }\n",
       "\n",
       "    .dataframe tbody tr th {\n",
       "        vertical-align: top;\n",
       "    }\n",
       "\n",
       "    .dataframe thead th {\n",
       "        text-align: right;\n",
       "    }\n",
       "</style>\n",
       "<table border=\"1\" class=\"dataframe\">\n",
       "  <thead>\n",
       "    <tr style=\"text-align: right;\">\n",
       "      <th></th>\n",
       "      <th>key</th>\n",
       "      <th>data</th>\n",
       "    </tr>\n",
       "  </thead>\n",
       "  <tbody>\n",
       "    <tr>\n",
       "      <th>0</th>\n",
       "      <td>A</td>\n",
       "      <td>0</td>\n",
       "    </tr>\n",
       "    <tr>\n",
       "      <th>1</th>\n",
       "      <td>B</td>\n",
       "      <td>1</td>\n",
       "    </tr>\n",
       "    <tr>\n",
       "      <th>2</th>\n",
       "      <td>C</td>\n",
       "      <td>2</td>\n",
       "    </tr>\n",
       "    <tr>\n",
       "      <th>3</th>\n",
       "      <td>A</td>\n",
       "      <td>3</td>\n",
       "    </tr>\n",
       "    <tr>\n",
       "      <th>4</th>\n",
       "      <td>B</td>\n",
       "      <td>4</td>\n",
       "    </tr>\n",
       "    <tr>\n",
       "      <th>5</th>\n",
       "      <td>C</td>\n",
       "      <td>5</td>\n",
       "    </tr>\n",
       "  </tbody>\n",
       "</table>\n",
       "</div>"
      ],
      "text/plain": [
       "  key  data\n",
       "0   A     0\n",
       "1   B     1\n",
       "2   C     2\n",
       "3   A     3\n",
       "4   B     4\n",
       "5   C     5"
      ]
     },
     "execution_count": 17,
     "metadata": {},
     "output_type": "execute_result"
    }
   ],
   "source": [
    "df = pd.DataFrame({'key': ['A', 'B', 'C', 'A', 'B', 'C'],\n",
    "                   'data': range(6)}, columns=['key', 'data'])\n",
    "df"
   ]
  },
  {
   "cell_type": "code",
   "execution_count": 19,
   "id": "267ef306-d28e-4764-bed3-a8e0624bf44e",
   "metadata": {},
   "outputs": [
    {
     "data": {
      "text/html": [
       "<div>\n",
       "<style scoped>\n",
       "    .dataframe tbody tr th:only-of-type {\n",
       "        vertical-align: middle;\n",
       "    }\n",
       "\n",
       "    .dataframe tbody tr th {\n",
       "        vertical-align: top;\n",
       "    }\n",
       "\n",
       "    .dataframe thead th {\n",
       "        text-align: right;\n",
       "    }\n",
       "</style>\n",
       "<table border=\"1\" class=\"dataframe\">\n",
       "  <thead>\n",
       "    <tr style=\"text-align: right;\">\n",
       "      <th></th>\n",
       "      <th>data</th>\n",
       "    </tr>\n",
       "    <tr>\n",
       "      <th>key</th>\n",
       "      <th></th>\n",
       "    </tr>\n",
       "  </thead>\n",
       "  <tbody>\n",
       "    <tr>\n",
       "      <th>A</th>\n",
       "      <td>3</td>\n",
       "    </tr>\n",
       "    <tr>\n",
       "      <th>B</th>\n",
       "      <td>5</td>\n",
       "    </tr>\n",
       "    <tr>\n",
       "      <th>C</th>\n",
       "      <td>7</td>\n",
       "    </tr>\n",
       "  </tbody>\n",
       "</table>\n",
       "</div>"
      ],
      "text/plain": [
       "     data\n",
       "key      \n",
       "A       3\n",
       "B       5\n",
       "C       7"
      ]
     },
     "execution_count": 19,
     "metadata": {},
     "output_type": "execute_result"
    }
   ],
   "source": [
    "df.groupby('key').sum()"
   ]
  },
  {
   "cell_type": "code",
   "execution_count": 21,
   "id": "16ebf65b-53e8-4d66-8aaf-b7a2c83e3880",
   "metadata": {},
   "outputs": [
    {
     "data": {
      "text/plain": [
       "key\n",
       "A    1.5\n",
       "B    2.5\n",
       "C    3.5\n",
       "Name: data, dtype: float64"
      ]
     },
     "execution_count": 21,
     "metadata": {},
     "output_type": "execute_result"
    }
   ],
   "source": [
    "df.groupby('key')['data'].mean()"
   ]
  },
  {
   "cell_type": "code",
   "execution_count": 23,
   "id": "cee2c5c1-46a3-4c11-94b2-72ab2b31b719",
   "metadata": {},
   "outputs": [
    {
     "name": "stdout",
     "output_type": "stream",
     "text": [
      "A\n",
      "  key  data\n",
      "0   A     0\n",
      "3   A     3\n",
      "B\n",
      "  key  data\n",
      "1   B     1\n",
      "4   B     4\n",
      "C\n",
      "  key  data\n",
      "2   C     2\n",
      "5   C     5\n"
     ]
    }
   ],
   "source": [
    "for k, group in df.groupby('key'):\n",
    "    print(k)\n",
    "    print(group)"
   ]
  },
  {
   "cell_type": "code",
   "execution_count": 26,
   "id": "f8f710e2-165f-4552-9701-897cb7fc4a0d",
   "metadata": {},
   "outputs": [
    {
     "data": {
      "text/html": [
       "<div>\n",
       "<style scoped>\n",
       "    .dataframe tbody tr th:only-of-type {\n",
       "        vertical-align: middle;\n",
       "    }\n",
       "\n",
       "    .dataframe tbody tr th {\n",
       "        vertical-align: top;\n",
       "    }\n",
       "\n",
       "    .dataframe thead th {\n",
       "        text-align: right;\n",
       "    }\n",
       "</style>\n",
       "<table border=\"1\" class=\"dataframe\">\n",
       "  <thead>\n",
       "    <tr style=\"text-align: right;\">\n",
       "      <th></th>\n",
       "      <th>key</th>\n",
       "      <th>data</th>\n",
       "    </tr>\n",
       "  </thead>\n",
       "  <tbody>\n",
       "    <tr>\n",
       "      <th>2</th>\n",
       "      <td>C</td>\n",
       "      <td>2</td>\n",
       "    </tr>\n",
       "    <tr>\n",
       "      <th>3</th>\n",
       "      <td>A</td>\n",
       "      <td>3</td>\n",
       "    </tr>\n",
       "    <tr>\n",
       "      <th>4</th>\n",
       "      <td>B</td>\n",
       "      <td>4</td>\n",
       "    </tr>\n",
       "    <tr>\n",
       "      <th>5</th>\n",
       "      <td>C</td>\n",
       "      <td>5</td>\n",
       "    </tr>\n",
       "  </tbody>\n",
       "</table>\n",
       "</div>"
      ],
      "text/plain": [
       "  key  data\n",
       "2   C     2\n",
       "3   A     3\n",
       "4   B     4\n",
       "5   C     5"
      ]
     },
     "execution_count": 26,
     "metadata": {},
     "output_type": "execute_result"
    }
   ],
   "source": [
    "df[df['data']>=2]"
   ]
  },
  {
   "cell_type": "code",
   "execution_count": 27,
   "id": "ee644614-3978-48e1-b58b-d787a414188f",
   "metadata": {},
   "outputs": [
    {
     "data": {
      "text/html": [
       "<div>\n",
       "<style scoped>\n",
       "    .dataframe tbody tr th:only-of-type {\n",
       "        vertical-align: middle;\n",
       "    }\n",
       "\n",
       "    .dataframe tbody tr th {\n",
       "        vertical-align: top;\n",
       "    }\n",
       "\n",
       "    .dataframe thead th {\n",
       "        text-align: right;\n",
       "    }\n",
       "</style>\n",
       "<table border=\"1\" class=\"dataframe\">\n",
       "  <thead>\n",
       "    <tr style=\"text-align: right;\">\n",
       "      <th></th>\n",
       "      <th>key</th>\n",
       "      <th>data</th>\n",
       "      <th>new_col</th>\n",
       "    </tr>\n",
       "  </thead>\n",
       "  <tbody>\n",
       "    <tr>\n",
       "      <th>0</th>\n",
       "      <td>A</td>\n",
       "      <td>0</td>\n",
       "      <td>-2</td>\n",
       "    </tr>\n",
       "    <tr>\n",
       "      <th>1</th>\n",
       "      <td>B</td>\n",
       "      <td>1</td>\n",
       "      <td>-1</td>\n",
       "    </tr>\n",
       "    <tr>\n",
       "      <th>2</th>\n",
       "      <td>C</td>\n",
       "      <td>2</td>\n",
       "      <td>0</td>\n",
       "    </tr>\n",
       "    <tr>\n",
       "      <th>3</th>\n",
       "      <td>A</td>\n",
       "      <td>3</td>\n",
       "      <td>1</td>\n",
       "    </tr>\n",
       "    <tr>\n",
       "      <th>4</th>\n",
       "      <td>B</td>\n",
       "      <td>4</td>\n",
       "      <td>2</td>\n",
       "    </tr>\n",
       "    <tr>\n",
       "      <th>5</th>\n",
       "      <td>C</td>\n",
       "      <td>5</td>\n",
       "      <td>3</td>\n",
       "    </tr>\n",
       "  </tbody>\n",
       "</table>\n",
       "</div>"
      ],
      "text/plain": [
       "  key  data  new_col\n",
       "0   A     0       -2\n",
       "1   B     1       -1\n",
       "2   C     2        0\n",
       "3   A     3        1\n",
       "4   B     4        2\n",
       "5   C     5        3"
      ]
     },
     "execution_count": 27,
     "metadata": {},
     "output_type": "execute_result"
    }
   ],
   "source": [
    "def sub2(x):\n",
    "    return x-2\n",
    "\n",
    "df['new_col'] = df['data'].apply(sub2)\n",
    "df"
   ]
  },
  {
   "cell_type": "code",
   "execution_count": 32,
   "id": "64ca05fe-1cfe-4527-9bae-62319edba97a",
   "metadata": {},
   "outputs": [
    {
     "data": {
      "text/html": [
       "<div>\n",
       "<style scoped>\n",
       "    .dataframe tbody tr th:only-of-type {\n",
       "        vertical-align: middle;\n",
       "    }\n",
       "\n",
       "    .dataframe tbody tr th {\n",
       "        vertical-align: top;\n",
       "    }\n",
       "\n",
       "    .dataframe thead th {\n",
       "        text-align: right;\n",
       "    }\n",
       "</style>\n",
       "<table border=\"1\" class=\"dataframe\">\n",
       "  <thead>\n",
       "    <tr style=\"text-align: right;\">\n",
       "      <th></th>\n",
       "      <th>survived</th>\n",
       "      <th>pclass</th>\n",
       "      <th>sex</th>\n",
       "      <th>age</th>\n",
       "      <th>sibsp</th>\n",
       "      <th>parch</th>\n",
       "      <th>fare</th>\n",
       "      <th>embarked</th>\n",
       "      <th>class</th>\n",
       "      <th>who</th>\n",
       "      <th>adult_male</th>\n",
       "      <th>deck</th>\n",
       "      <th>embark_town</th>\n",
       "      <th>alive</th>\n",
       "      <th>alone</th>\n",
       "    </tr>\n",
       "  </thead>\n",
       "  <tbody>\n",
       "    <tr>\n",
       "      <th>0</th>\n",
       "      <td>0</td>\n",
       "      <td>3</td>\n",
       "      <td>male</td>\n",
       "      <td>22.0</td>\n",
       "      <td>1</td>\n",
       "      <td>0</td>\n",
       "      <td>7.2500</td>\n",
       "      <td>S</td>\n",
       "      <td>Third</td>\n",
       "      <td>man</td>\n",
       "      <td>True</td>\n",
       "      <td>NaN</td>\n",
       "      <td>Southampton</td>\n",
       "      <td>no</td>\n",
       "      <td>False</td>\n",
       "    </tr>\n",
       "    <tr>\n",
       "      <th>1</th>\n",
       "      <td>1</td>\n",
       "      <td>1</td>\n",
       "      <td>female</td>\n",
       "      <td>38.0</td>\n",
       "      <td>1</td>\n",
       "      <td>0</td>\n",
       "      <td>71.2833</td>\n",
       "      <td>C</td>\n",
       "      <td>First</td>\n",
       "      <td>woman</td>\n",
       "      <td>False</td>\n",
       "      <td>C</td>\n",
       "      <td>Cherbourg</td>\n",
       "      <td>yes</td>\n",
       "      <td>False</td>\n",
       "    </tr>\n",
       "  </tbody>\n",
       "</table>\n",
       "</div>"
      ],
      "text/plain": [
       "   survived  pclass     sex   age  sibsp  parch     fare embarked  class  \\\n",
       "0         0       3    male  22.0      1      0   7.2500        S  Third   \n",
       "1         1       1  female  38.0      1      0  71.2833        C  First   \n",
       "\n",
       "     who  adult_male deck  embark_town alive  alone  \n",
       "0    man        True  NaN  Southampton    no  False  \n",
       "1  woman       False    C    Cherbourg   yes  False  "
      ]
     },
     "execution_count": 32,
     "metadata": {},
     "output_type": "execute_result"
    }
   ],
   "source": [
    "import numpy as np\n",
    "import pandas as pd\n",
    "import seaborn as sns\n",
    "titanic = sns.load_dataset('titanic')\n",
    "titanic.head(2)"
   ]
  },
  {
   "cell_type": "code",
   "execution_count": 30,
   "id": "699dcace-224d-4851-939d-b6863001c119",
   "metadata": {},
   "outputs": [
    {
     "data": {
      "text/plain": [
       "sex\n",
       "female    0.742038\n",
       "male      0.188908\n",
       "Name: survived, dtype: float64"
      ]
     },
     "execution_count": 30,
     "metadata": {},
     "output_type": "execute_result"
    }
   ],
   "source": [
    "titanic.groupby('sex')['survived'].mean()"
   ]
  },
  {
   "cell_type": "code",
   "execution_count": 31,
   "id": "5ca11251-e2e0-4d8e-9d7d-a76bb5f37474",
   "metadata": {},
   "outputs": [
    {
     "data": {
      "text/html": [
       "<div>\n",
       "<style scoped>\n",
       "    .dataframe tbody tr th:only-of-type {\n",
       "        vertical-align: middle;\n",
       "    }\n",
       "\n",
       "    .dataframe tbody tr th {\n",
       "        vertical-align: top;\n",
       "    }\n",
       "\n",
       "    .dataframe thead th {\n",
       "        text-align: right;\n",
       "    }\n",
       "</style>\n",
       "<table border=\"1\" class=\"dataframe\">\n",
       "  <thead>\n",
       "    <tr style=\"text-align: right;\">\n",
       "      <th></th>\n",
       "      <th>survived</th>\n",
       "    </tr>\n",
       "    <tr>\n",
       "      <th>sex</th>\n",
       "      <th></th>\n",
       "    </tr>\n",
       "  </thead>\n",
       "  <tbody>\n",
       "    <tr>\n",
       "      <th>female</th>\n",
       "      <td>0.742038</td>\n",
       "    </tr>\n",
       "    <tr>\n",
       "      <th>male</th>\n",
       "      <td>0.188908</td>\n",
       "    </tr>\n",
       "  </tbody>\n",
       "</table>\n",
       "</div>"
      ],
      "text/plain": [
       "        survived\n",
       "sex             \n",
       "female  0.742038\n",
       "male    0.188908"
      ]
     },
     "execution_count": 31,
     "metadata": {},
     "output_type": "execute_result"
    }
   ],
   "source": [
    "titanic.groupby('sex')[['survived']].mean()"
   ]
  },
  {
   "cell_type": "code",
   "execution_count": 38,
   "id": "5cadff4f-901a-43ad-b7c5-5e1f6ea71547",
   "metadata": {},
   "outputs": [
    {
     "name": "stderr",
     "output_type": "stream",
     "text": [
      "C:\\Users\\mgupta70\\AppData\\Local\\Temp\\ipykernel_9096\\3871282342.py:1: FutureWarning: The default of observed=False is deprecated and will be changed to True in a future version of pandas. Pass observed=False to retain current behavior or observed=True to adopt the future default and silence this warning.\n",
      "  titanic.groupby(['sex', 'class'])['survived'].mean().unstack()\n"
     ]
    },
    {
     "data": {
      "text/html": [
       "<div>\n",
       "<style scoped>\n",
       "    .dataframe tbody tr th:only-of-type {\n",
       "        vertical-align: middle;\n",
       "    }\n",
       "\n",
       "    .dataframe tbody tr th {\n",
       "        vertical-align: top;\n",
       "    }\n",
       "\n",
       "    .dataframe thead th {\n",
       "        text-align: right;\n",
       "    }\n",
       "</style>\n",
       "<table border=\"1\" class=\"dataframe\">\n",
       "  <thead>\n",
       "    <tr style=\"text-align: right;\">\n",
       "      <th>class</th>\n",
       "      <th>First</th>\n",
       "      <th>Second</th>\n",
       "      <th>Third</th>\n",
       "    </tr>\n",
       "    <tr>\n",
       "      <th>sex</th>\n",
       "      <th></th>\n",
       "      <th></th>\n",
       "      <th></th>\n",
       "    </tr>\n",
       "  </thead>\n",
       "  <tbody>\n",
       "    <tr>\n",
       "      <th>female</th>\n",
       "      <td>0.968085</td>\n",
       "      <td>0.921053</td>\n",
       "      <td>0.500000</td>\n",
       "    </tr>\n",
       "    <tr>\n",
       "      <th>male</th>\n",
       "      <td>0.368852</td>\n",
       "      <td>0.157407</td>\n",
       "      <td>0.135447</td>\n",
       "    </tr>\n",
       "  </tbody>\n",
       "</table>\n",
       "</div>"
      ],
      "text/plain": [
       "class      First    Second     Third\n",
       "sex                                 \n",
       "female  0.968085  0.921053  0.500000\n",
       "male    0.368852  0.157407  0.135447"
      ]
     },
     "execution_count": 38,
     "metadata": {},
     "output_type": "execute_result"
    }
   ],
   "source": [
    "titanic.groupby(['sex', 'class'])['survived'].mean().unstack()"
   ]
  },
  {
   "cell_type": "code",
   "execution_count": 42,
   "id": "93ca765b-9dd7-4da0-9c43-4220f25cd57a",
   "metadata": {},
   "outputs": [],
   "source": [
    "# for k, group in titanic.groupby(['sex', 'class'])['survived']:\n",
    "#     print(k)\n",
    "#     print(k[0])\n",
    "    #print(group)"
   ]
  },
  {
   "cell_type": "code",
   "execution_count": null,
   "id": "5bbc71d9-c9ae-4096-a8a8-41a78395bc37",
   "metadata": {},
   "outputs": [],
   "source": []
  },
  {
   "cell_type": "code",
   "execution_count": null,
   "id": "06e9c94c-5df5-48b8-9399-ae8a5758bd40",
   "metadata": {},
   "outputs": [],
   "source": []
  },
  {
   "cell_type": "code",
   "execution_count": null,
   "id": "eaf87e32-2dba-46c4-9af5-7de8a698320c",
   "metadata": {},
   "outputs": [],
   "source": []
  },
  {
   "cell_type": "code",
   "execution_count": null,
   "id": "c2f64187-ef4a-4377-be95-74bb34a6f21b",
   "metadata": {},
   "outputs": [],
   "source": []
  },
  {
   "cell_type": "code",
   "execution_count": null,
   "id": "a4077a1d-8bcf-4bfd-ba35-d06411a33a88",
   "metadata": {},
   "outputs": [],
   "source": []
  },
  {
   "cell_type": "code",
   "execution_count": null,
   "id": "c242e5b4-fec3-4406-a976-74f256f1a0f8",
   "metadata": {},
   "outputs": [],
   "source": []
  },
  {
   "cell_type": "markdown",
   "id": "e7ab88b7-a68c-4f66-8ec2-daad6e6dafeb",
   "metadata": {},
   "source": [
    "## 6. convolve in numpy"
   ]
  },
  {
   "cell_type": "markdown",
   "id": "dee9709f-a24b-4725-9a79-c03528722da6",
   "metadata": {},
   "source": [
    "## 7. plotting"
   ]
  },
  {
   "cell_type": "markdown",
   "id": "727f8f91-5b57-470c-928f-55740b5efa3b",
   "metadata": {},
   "source": [
    "## 8.\n",
    "- df.apply\n",
    "- lambda\n",
    "- in\n",
    "- not in\n",
    "- is\n",
    "- is in\n",
    "- and vs &\n",
    "- | vs or\n",
    "- map"
   ]
  },
  {
   "cell_type": "code",
   "execution_count": null,
   "id": "37e5fdae-28c1-47d3-a3b5-c400646662bf",
   "metadata": {},
   "outputs": [],
   "source": [
    "# Source - https://jakevdp.github.io/PythonDataScienceHandbook/05.06-linear-regression.html\n",
    "\n",
    "## adding binary columns to pandas df\n",
    "days = ['Mon', 'Tue', 'Wed', 'Thu', 'Fri', 'Sat', 'Sun']\n",
    "for i in range(7):\n",
    "    daily[days[i]] = (daily.index.dayofweek == i).astype(float)\n",
    "\n",
    "## join advanced\n",
    "from pandas.tseries.holiday import USFederalHolidayCalendar\n",
    "cal = USFederalHolidayCalendar()\n",
    "holidays = cal.holidays('2012', '2016')\n",
    "daily = daily.join(pd.Series(1, index=holidays, name='holiday'))\n",
    "daily['holiday'].fillna(0, inplace=True)\n",
    "\n",
    "## feature engg\n",
    "def hours_of_daylight(date, axis=23.44, latitude=47.61):\n",
    "    \"\"\"Compute the hours of daylight for the given date\"\"\"\n",
    "    days = (date - pd.datetime(2000, 12, 21)).days\n",
    "    m = (1. - np.tan(np.radians(latitude))\n",
    "         * np.tan(np.radians(axis) * np.cos(days * 2 * np.pi / 365.25)))\n",
    "    return 24. * np.degrees(np.arccos(1 - np.clip(m, 0, 2))) / 180.\n",
    "\n",
    "daily['daylight_hrs'] = list(map(hours_of_daylight, daily.index))\n",
    "daily[['daylight_hrs']].plot()\n",
    "plt.ylim(8, 17)\n",
    "\n",
    "## fancy\n",
    "weather['dry day'] = (weather['PRCP'] == 0).astype(int)\n",
    "\n",
    "daily = daily.join(weather[['PRCP', 'Temp (C)', 'dry day']])\n",
    "\n",
    "# Finally, let's add a counter that increases from day 1, and measures how many years have passed. \n",
    "#This will let us measure any observed annual increase or decrease in daily crossings:\n",
    "\n",
    "daily['annual'] = (daily.index - daily.index[0]).days / 365.\n",
    "\n",
    "\n",
    "# Drop any rows with null values\n",
    "daily.dropna(axis=0, how='any', inplace=True)\n",
    "\n",
    "column_names = ['Mon', 'Tue', 'Wed', 'Thu', 'Fri', 'Sat', 'Sun', 'holiday',\n",
    "                'daylight_hrs', 'PRCP', 'dry day', 'Temp (C)', 'annual']\n",
    "X = daily[column_names]\n",
    "y = daily['Total']\n",
    "\n",
    "model = LinearRegression(fit_intercept=False)\n",
    "model.fit(X, y)\n",
    "daily['predicted'] = model.predict(X)\n",
    "\n",
    "daily[['Total', 'predicted']].plot(alpha=0.5);"
   ]
  },
  {
   "cell_type": "code",
   "execution_count": 14,
   "id": "71677fe3-f23c-4f0d-aacb-9fcad61dbf41",
   "metadata": {},
   "outputs": [
    {
     "name": "stdin",
     "output_type": "stream",
     "text": [
      "who are you 2\n"
     ]
    }
   ],
   "source": [
    "a = input('who are you')"
   ]
  },
  {
   "cell_type": "code",
   "execution_count": 15,
   "id": "e009f2c3-54bb-4edc-98e9-d51ef4258d94",
   "metadata": {},
   "outputs": [
    {
     "data": {
      "text/plain": [
       "'2'"
      ]
     },
     "execution_count": 15,
     "metadata": {},
     "output_type": "execute_result"
    }
   ],
   "source": [
    "a"
   ]
  },
  {
   "cell_type": "markdown",
   "id": "f3671bd8-4f32-4428-bbb5-87dc8c128e3c",
   "metadata": {},
   "source": [
    "## List\n",
    "1. insert\n",
    "2. pop\n",
    "3.  remove\n",
    "4.  del\n",
    "5. flatten\n",
    "6. list comprehension\n"
   ]
  },
  {
   "cell_type": "code",
   "execution_count": 55,
   "id": "7c650b45-bf12-4acc-a564-5e54bf4b2871",
   "metadata": {},
   "outputs": [],
   "source": [
    "a = [1,2,4,5,6,7,8,9]"
   ]
  },
  {
   "cell_type": "code",
   "execution_count": 56,
   "id": "63f05d85-6de3-4c9e-8c0b-c4e353df44fe",
   "metadata": {},
   "outputs": [
    {
     "data": {
      "text/plain": [
       "9"
      ]
     },
     "execution_count": 56,
     "metadata": {},
     "output_type": "execute_result"
    }
   ],
   "source": [
    "a.pop() # removes last"
   ]
  },
  {
   "cell_type": "code",
   "execution_count": 57,
   "id": "6f122a25-6ac4-4c2b-b74f-b8ad30aab007",
   "metadata": {},
   "outputs": [
    {
     "data": {
      "text/plain": [
       "[1, 2, 4, 5, 6, 7, 8]"
      ]
     },
     "execution_count": 57,
     "metadata": {},
     "output_type": "execute_result"
    }
   ],
   "source": [
    "a"
   ]
  },
  {
   "cell_type": "code",
   "execution_count": 58,
   "id": "efe93a1c-9215-4d94-bdfe-04ab1aa8f435",
   "metadata": {},
   "outputs": [
    {
     "data": {
      "text/plain": [
       "1"
      ]
     },
     "execution_count": 58,
     "metadata": {},
     "output_type": "execute_result"
    }
   ],
   "source": [
    "a.pop(0) # remove first"
   ]
  },
  {
   "cell_type": "code",
   "execution_count": 59,
   "id": "d3ae45a7-7cd9-4e2e-8d3a-579f14aaffa6",
   "metadata": {},
   "outputs": [
    {
     "data": {
      "text/plain": [
       "[2, 4, 5, 6, 7, 8]"
      ]
     },
     "execution_count": 59,
     "metadata": {},
     "output_type": "execute_result"
    }
   ],
   "source": [
    "a"
   ]
  },
  {
   "cell_type": "code",
   "execution_count": 60,
   "id": "c53044a9-5477-4066-8e55-502fddf781c6",
   "metadata": {},
   "outputs": [],
   "source": [
    "a.remove(4) # removes value"
   ]
  },
  {
   "cell_type": "code",
   "execution_count": 61,
   "id": "aad0728a-db25-499a-b001-05f8e472f499",
   "metadata": {},
   "outputs": [
    {
     "data": {
      "text/plain": [
       "[2, 5, 6, 7, 8]"
      ]
     },
     "execution_count": 61,
     "metadata": {},
     "output_type": "execute_result"
    }
   ],
   "source": [
    "a"
   ]
  },
  {
   "cell_type": "code",
   "execution_count": 62,
   "id": "6b126ff0-7dba-40b5-b586-2698201e79b4",
   "metadata": {},
   "outputs": [],
   "source": [
    "a.insert(3 , 32) # at 4th place we insert 32"
   ]
  },
  {
   "cell_type": "code",
   "execution_count": 63,
   "id": "3c88a242-0601-4f39-8c87-2d0a54981998",
   "metadata": {},
   "outputs": [
    {
     "data": {
      "text/plain": [
       "[2, 5, 6, 32, 7, 8]"
      ]
     },
     "execution_count": 63,
     "metadata": {},
     "output_type": "execute_result"
    }
   ],
   "source": [
    "a"
   ]
  },
  {
   "cell_type": "code",
   "execution_count": 64,
   "id": "2219bd5c-cda9-4fb2-8d6c-f61b19c1820d",
   "metadata": {},
   "outputs": [
    {
     "data": {
      "text/plain": [
       "6"
      ]
     },
     "execution_count": 64,
     "metadata": {},
     "output_type": "execute_result"
    }
   ],
   "source": [
    "len(a)"
   ]
  },
  {
   "cell_type": "code",
   "execution_count": 65,
   "id": "38404291-2c28-4a94-83e9-108e95ff8ba6",
   "metadata": {},
   "outputs": [],
   "source": [
    "a.insert(5, 33) "
   ]
  },
  {
   "cell_type": "code",
   "execution_count": 66,
   "id": "d546fed4-c47a-442f-a06f-dea71e9bfd09",
   "metadata": {},
   "outputs": [
    {
     "data": {
      "text/plain": [
       "[2, 5, 6, 32, 7, 33, 8]"
      ]
     },
     "execution_count": 66,
     "metadata": {},
     "output_type": "execute_result"
    }
   ],
   "source": [
    "a"
   ]
  },
  {
   "cell_type": "code",
   "execution_count": 67,
   "id": "14c271e1-3688-4128-991b-99a14db16cfa",
   "metadata": {},
   "outputs": [],
   "source": [
    "a.insert(7, 33) # for last idx = idx+1 # for last it is better to use append"
   ]
  },
  {
   "cell_type": "code",
   "execution_count": 69,
   "id": "3ba633dc-5a2b-421f-b96b-bda99870b965",
   "metadata": {},
   "outputs": [],
   "source": [
    "del a[3]"
   ]
  },
  {
   "cell_type": "code",
   "execution_count": 70,
   "id": "72df3246-0821-44b1-a821-3fb559689bde",
   "metadata": {},
   "outputs": [
    {
     "data": {
      "text/plain": [
       "[2, 5, 6, 7, 33, 8, 33]"
      ]
     },
     "execution_count": 70,
     "metadata": {},
     "output_type": "execute_result"
    }
   ],
   "source": [
    "a"
   ]
  },
  {
   "cell_type": "code",
   "execution_count": 31,
   "id": "e52fa4af-8a54-46c2-967e-8a87350afcb2",
   "metadata": {},
   "outputs": [
    {
     "data": {
      "text/plain": [
       "[1, 2, 4, 5, 6, 1, 2, 4, 5, 6]"
      ]
     },
     "execution_count": 31,
     "metadata": {},
     "output_type": "execute_result"
    }
   ],
   "source": [
    "a = [[1,2,4,5,6],[1,2,4,5,6]]\n",
    "\n",
    "[e for nl in a for e in nl]"
   ]
  },
  {
   "cell_type": "code",
   "execution_count": 79,
   "id": "d28b7eb2-7b3d-4051-b80b-7ee28e20ffe3",
   "metadata": {},
   "outputs": [
    {
     "data": {
      "text/plain": [
       "[0,\n",
       " 7,\n",
       " 11,\n",
       " 14,\n",
       " 21,\n",
       " 22,\n",
       " 28,\n",
       " 33,\n",
       " 35,\n",
       " 42,\n",
       " 44,\n",
       " 49,\n",
       " 55,\n",
       " 56,\n",
       " 63,\n",
       " 66,\n",
       " 70,\n",
       " 77,\n",
       " 84,\n",
       " 88,\n",
       " 91,\n",
       " 98,\n",
       " 99]"
      ]
     },
     "execution_count": 79,
     "metadata": {},
     "output_type": "execute_result"
    }
   ],
   "source": [
    "[n for n in range(100) if (n%7==0) or (n%11==0) ]"
   ]
  },
  {
   "cell_type": "code",
   "execution_count": 112,
   "id": "dcc57b1a-42d7-44b9-9419-9a812ecae3db",
   "metadata": {},
   "outputs": [
    {
     "name": "stdout",
     "output_type": "stream",
     "text": [
      "['Cerberus', 'Aten', 'Bacchus', 'Ra-Shalom', 'Hathor', 'Khufu']\n"
     ]
    }
   ],
   "source": [
    "# Each element is (name, semi-major axis (AU), eccentricity, orbit class)\n",
    "Asteroids = [('Eros', 1.457916888347732, 0.2226769029627053, 'AMO'),\n",
    "             ('Albert', 2.629584157344544, 0.551788195302116, 'AMO'),\n",
    "             ('Alinda', 2.477642943521562, 0.5675993715753302, 'AMO'),\n",
    "             ('Ganymed', 2.662242764279804, 0.5339300994578989, 'AMO'),\n",
    "             ('Amor', 1.918987277620309, 0.4354863345648127, 'AMO'),\n",
    "             ('Icarus', 1.077941311539208, 0.826950446001521, 'APO'),\n",
    "             ('Betulia', 2.196489260519891, 0.4876246891992282, 'AMO'),\n",
    "             ('Geographos', 1.245477192797457, 0.3355407124897842, 'APO'),\n",
    "             ('Ivar', 1.862724540418448, 0.3968541470639658, 'AMO'),\n",
    "             ('Toro', 1.367247622946547, 0.4358829575017499, 'APO'),\n",
    "             ('Apollo', 1.470694262588244, 0.5598306817483757, 'APO'),\n",
    "             ('Antinous', 2.258479598510079, 0.6070051516585434, 'APO'),\n",
    "             ('Daedalus', 1.460912865705988, 0.6144629118218898, 'APO'),\n",
    "             ('Cerberus', 1.079965807367047, 0.4668134997419173, 'APO'),\n",
    "             ('Sisyphus', 1.893726635847921, 0.5383319204425762, 'APO'),\n",
    "             ('Quetzalcoatl', 2.544270656955212, 0.5704591861565643, 'AMO'),\n",
    "             ('Boreas', 2.271958775354725, 0.4499332278634067, 'AMO'),\n",
    "             ('Cuyo', 2.150453953345012, 0.5041719257675564, 'AMO'),\n",
    "             ('Anteros', 1.430262719980132, 0.2558054402785934, 'AMO'),\n",
    "             ('Tezcatlipoca', 1.709753263222791, 0.3647772103513082, 'AMO'),\n",
    "             ('Midas', 1.775954494579457, 0.6503697243919138, 'APO'),\n",
    "             ('Baboquivari', 2.646202507670927, 0.5295611095751231, 'AMO'),\n",
    "             ('Anza', 2.26415089613359, 0.5371603112900858, 'AMO'),\n",
    "             ('Aten', 0.9668828078092987, 0.1827831025175614, 'ATE'),\n",
    "             ('Bacchus', 1.078135348117527, 0.3495569270441645, 'APO'),\n",
    "             ('Ra-Shalom', 0.8320425524852308, 0.4364726062545577, 'ATE'),\n",
    "             ('Adonis', 1.874315684524321, 0.763949321566, 'APO'),\n",
    "             ('Tantalus', 1.289997492877751, 0.2990853014998932, 'APO'),\n",
    "             ('Aristaeus', 1.599511990737142, 0.5030618532252225, 'APO'),\n",
    "             ('Oljato', 2.172056090036035, 0.7125729402616418, 'APO'),\n",
    "             ('Pele', 2.291471988746353, 0.5115484924883255, 'AMO'),\n",
    "             ('Hephaistos', 2.159619960333728, 0.8374146846143349, 'APO'),\n",
    "             ('Orthos', 2.404988778495748, 0.6569133796135244, 'APO'),\n",
    "             ('Hathor', 0.8442121506103012, 0.4498204013480316, 'ATE'),\n",
    "             ('Beltrovata', 2.104690977122337, 0.413731105995413, 'AMO'),\n",
    "             ('Seneca', 2.516402574514213, 0.5708728441169761, 'AMO'),\n",
    "             ('Krok', 2.152545170235639, 0.4478259793515817, 'AMO'),\n",
    "             ('Eger', 1.404478323548423, 0.3542971360331806, 'APO'),\n",
    "             ('Florence', 1.768227407864309, 0.4227761019048867, 'AMO'),\n",
    "             ('Nefertiti', 1.574493139339916, 0.283902719273878, 'AMO'),\n",
    "             ('Phaethon', 1.271195939723604, 0.8898716672181355, 'APO'),\n",
    "             ('Ul', 2.102493486378346, 0.3951143067760007, 'AMO'),\n",
    "             ('Seleucus', 2.033331705805067, 0.4559159977082651, 'AMO'),\n",
    "             ('McAuliffe', 1.878722427225527, 0.3691521497610656, 'AMO'),\n",
    "             ('Syrinx', 2.469752836845105, 0.7441934504192601, 'APO'),\n",
    "             ('Orpheus', 1.209727780883745, 0.3229034563257626, 'APO'),\n",
    "             ('Khufu', 0.989473784873371, 0.468479627898914, 'ATE'),\n",
    "             ('Verenia', 2.093231870619781, 0.4865133359612604, 'AMO'),\n",
    "             ('\"Don Quixote\"', 4.221712367193639, 0.7130894892477316, 'AMO'),\n",
    "             ('Mera', 1.644476057737928, 0.3201425983025733, 'AMO')]\n",
    "\n",
    "# Each element is (name, semi-major axis (AU), eccentricity, orbit class)\n",
    "orbit_class = {'AMO':'Amor', 'APO':'Apollo', 'ATE':'Aten'}\n",
    "\n",
    "# Given this list of asteroid information, let's find all asteroids with semi-major\n",
    "# axis within 0.2AU of earth, and with eccentricities less than 0.5\n",
    "\n",
    "\n",
    "print([t[0] for t in Asteroids if (0.8<t[1]<=1.2) and (t[2]<0.5)])"
   ]
  },
  {
   "cell_type": "code",
   "execution_count": 101,
   "id": "c0b2d28a-aa31-4446-afd6-c99d283601f8",
   "metadata": {},
   "outputs": [
    {
     "name": "stdout",
     "output_type": "stream",
     "text": [
      "['Aten', 'Bacchus', 'Cerberus', 'Hathor', 'Khufu', 'Ra-Shalom']\n",
      "\n",
      "('Aten', 0.9668828078092987, 0.1827831025175614, 'ATE')\n",
      "('Bacchus', 1.078135348117527, 0.3495569270441645, 'APO')\n",
      "('Cerberus', 1.079965807367047, 0.4668134997419173, 'APO')\n",
      "('Hathor', 0.8442121506103012, 0.4498204013480316, 'ATE')\n",
      "('Khufu', 0.989473784873371, 0.468479627898914, 'ATE')\n",
      "('Ra-Shalom', 0.8320425524852308, 0.4364726062545577, 'ATE')\n",
      "\n",
      "('Ra-Shalom', 0.8320425524852308, 0.4364726062545577, 'ATE')\n",
      "('Hathor', 0.8442121506103012, 0.4498204013480316, 'ATE')\n",
      "('Aten', 0.9668828078092987, 0.1827831025175614, 'ATE')\n",
      "('Khufu', 0.989473784873371, 0.468479627898914, 'ATE')\n",
      "('Bacchus', 1.078135348117527, 0.3495569270441645, 'APO')\n",
      "('Cerberus', 1.079965807367047, 0.4668134997419173, 'APO')\n"
     ]
    }
   ],
   "source": [
    "# print the list sorted in alphabetical order by asteroid name\n",
    "\n",
    "names = [t[0] for t in Asteroids if (0.8<t[1]<=1.2) and (t[2]<0.5)]\n",
    "names.sort()\n",
    "print(names)\n",
    "print() \n",
    "# sort by name\n",
    "filtered_asteroids = [t for t in Asteroids if (0.8<t[1]<=1.2) and (t[2]<0.5)]\n",
    "sorted_by_name = sorted(filtered_asteroids, key = lambda x: x[0])\n",
    "\n",
    "# sorted by semi-major axis\n",
    "sorted_by_semimajor = sorted(filtered_asteroids, key = lambda x: x[1])\n",
    "\n",
    "for t in sorted_by_name:\n",
    "    print(t)\n",
    "print()\n",
    "\n",
    "for t in sorted_by_semimajor:\n",
    "    print(t)"
   ]
  },
  {
   "cell_type": "code",
   "execution_count": 122,
   "id": "a7519d6e-c5c9-40c0-b5bb-3ad3419dc084",
   "metadata": {},
   "outputs": [
    {
     "name": "stdout",
     "output_type": "stream",
     "text": [
      "['Aten', 0.9668828078092987, 0.1827831025175614, 'ATE'] ATE\n",
      "['Bacchus', 1.078135348117527, 0.3495569270441645, 'APO'] APO\n",
      "['Cerberus', 1.079965807367047, 0.4668134997419173, 'APO'] APO\n",
      "['Hathor', 0.8442121506103012, 0.4498204013480316, 'ATE'] ATE\n",
      "['Khufu', 0.989473784873371, 0.468479627898914, 'ATE'] ATE\n",
      "['Ra-Shalom', 0.8320425524852308, 0.4364726062545577, 'ATE'] ATE\n"
     ]
    },
    {
     "data": {
      "text/plain": [
       "[('Aten', 0.9668828078092987, 0.1827831025175614, 'Aten'),\n",
       " ('Bacchus', 1.078135348117527, 0.3495569270441645, 'Apollo'),\n",
       " ('Cerberus', 1.079965807367047, 0.4668134997419173, 'Apollo'),\n",
       " ('Hathor', 0.8442121506103012, 0.4498204013480316, 'Aten'),\n",
       " ('Khufu', 0.989473784873371, 0.468479627898914, 'Aten'),\n",
       " ('Ra-Shalom', 0.8320425524852308, 0.4364726062545577, 'Aten')]"
      ]
     },
     "execution_count": 122,
     "metadata": {},
     "output_type": "execute_result"
    }
   ],
   "source": [
    "# replace object name\n",
    "new_ls = []\n",
    "for t in sorted_by_name:\n",
    "    ls = list(t)\n",
    "    print(ls, ls[3])\n",
    "    ls[3] = orbit_class[ls[3]]\n",
    "    new_ls.append(tuple(ls))\n",
    "\n",
    "new_ls"
   ]
  },
  {
   "cell_type": "code",
   "execution_count": 129,
   "id": "aa962d07-1536-4aee-b2a4-91d2cb64e51b",
   "metadata": {},
   "outputs": [
    {
     "name": "stdout",
     "output_type": "stream",
     "text": [
      "[0 1 2 3 4 5 6 7 8 9]\n",
      "[1 2 3 4 5 6 7 8 9]\n",
      "[ 2  6 10 14 18 22 26 30 34]\n",
      "[ 1.  3.  5.  7.  9. 11. 13. 15. 17.]\n"
     ]
    }
   ],
   "source": [
    "\n",
    "x = np.arange(0,10)\n",
    "y = 2*x\n",
    "\n",
    "n = x.shape[0]\n",
    "\n",
    "x_shifted = x[1:]\n",
    "y_shifted = y[1:]\n",
    "\n",
    "print(x)\n",
    "print(x_shifted)\n",
    "\n",
    "x_diff = x_shifted - x[:n-1]\n",
    "y_sum = y_shifted + y[:n-1]\n",
    "print(y_sum)\n",
    "y_sum = y_sum.astype(float)\n",
    "y_sum/=2.\n",
    "print(y_sum)"
   ]
  },
  {
   "cell_type": "code",
   "execution_count": 132,
   "id": "f467a637-84a4-497f-ae04-57746241b09b",
   "metadata": {},
   "outputs": [
    {
     "data": {
      "text/plain": [
       "81.0"
      ]
     },
     "execution_count": 132,
     "metadata": {},
     "output_type": "execute_result"
    }
   ],
   "source": [
    "def trapz(x,y):\n",
    "\n",
    "    n = x.shape[0]\n",
    "    x_shifted = x[1:]\n",
    "    y_shifted = y[1:]\n",
    "    \n",
    "    x_diff = x_shifted - x[:n-1]\n",
    "    y_sum = y_shifted + y[:n-1]\n",
    "    y_sum = y_sum.astype(float)\n",
    "    y_sum/=2.\n",
    "    \n",
    "    return np.dot(x_diff, y_sum)\n",
    "\n",
    "trapz(x,y)"
   ]
  },
  {
   "cell_type": "code",
   "execution_count": 133,
   "id": "d9446785-85d1-4d90-acfb-2ec08b9359c4",
   "metadata": {},
   "outputs": [
    {
     "data": {
      "text/plain": [
       "81.0"
      ]
     },
     "execution_count": 133,
     "metadata": {},
     "output_type": "execute_result"
    }
   ],
   "source": [
    "def trapz(x, y):\n",
    "    return 0.5*np.sum((x[1:]-x[:-1])*(y[1:]+y[:-1]))\n",
    "\n",
    "trapz(x,y)"
   ]
  },
  {
   "cell_type": "code",
   "execution_count": 134,
   "id": "820fc0b3-05cb-4957-b632-46e3d8d2baa8",
   "metadata": {},
   "outputs": [],
   "source": [
    "def trapzf(f, a, b, npts=100):\n",
    "    x = np.linspace(a, b, npts)\n",
    "    y = f(x)\n",
    "    return trapz(x, y)"
   ]
  },
  {
   "cell_type": "code",
   "execution_count": 138,
   "id": "4db6c29d-3fc0-4dd8-b182-0e7ec758d769",
   "metadata": {},
   "outputs": [
    {
     "data": {
      "text/plain": [
       "81.0"
      ]
     },
     "execution_count": 138,
     "metadata": {},
     "output_type": "execute_result"
    }
   ],
   "source": [
    "def f(x):\n",
    "    return 2*x\n",
    "trapzf(f, 0,9)"
   ]
  },
  {
   "cell_type": "markdown",
   "id": "8a8c21dc-a14c-4f4c-9340-d33aa4fa014d",
   "metadata": {},
   "source": [
    "Write a function count_pairs(N, m) which returns the number of pairs of numbers in the sequence \n",
    " whose sum is divisible by m.\n",
    "\n",
    "For example, if N = 3 and m = 2, the pairs are\n",
    "\n",
    "[(0, 1), (0, 2), (1, 2)]\n",
    "The sum of each pair respectively is [1, 2, 3], and there is a single pair whose sum is divisible by 2, so the result is 1.\n",
    "\n",
    "What is the result for \n",
    "?\n",
    "What is the result for \n",
    "?"
   ]
  },
  {
   "cell_type": "code",
   "execution_count": 148,
   "id": "f689e171-0b50-40b7-922e-68526842d4b1",
   "metadata": {},
   "outputs": [
    {
     "name": "stdout",
     "output_type": "stream",
     "text": [
      "[(0, 2)]\n"
     ]
    }
   ],
   "source": [
    "def count_pairs(N, m):\n",
    "    pass\n",
    "\n",
    "N = 3\n",
    "m = 2\n",
    "\n",
    "r = np.arange(3).reshape(3,1)\n",
    "c = np.arange(3).reshape(1,3)\n",
    "\n",
    "arr = r+c\n",
    "#print(np.argwhere(arr%2==0))\n",
    "\n",
    "\n",
    "\n",
    "\n",
    "def count_pairs_loop(N, m):\n",
    "    count = 0\n",
    "    pairs = []\n",
    "    for i in range(N):\n",
    "        for j in range(i + 1, N):\n",
    "            if (i + j) % m == 0:\n",
    "                count += 1\n",
    "                pairs.append((i,j))\n",
    "    return pairs\n",
    "\n",
    "# Example usage\n",
    "print(count_pairs_loop(3, 2))"
   ]
  },
  {
   "cell_type": "code",
   "execution_count": 147,
   "id": "be4fc08c-f214-4f56-9bf9-5c5c1a3f5af0",
   "metadata": {},
   "outputs": [
    {
     "data": {
      "text/plain": [
       "array([[0, 0],\n",
       "       [0, 2],\n",
       "       [1, 0],\n",
       "       [1, 1],\n",
       "       [2, 0],\n",
       "       [2, 1],\n",
       "       [2, 2]], dtype=int64)"
      ]
     },
     "execution_count": 147,
     "metadata": {},
     "output_type": "execute_result"
    }
   ],
   "source": [
    "#def count_pairs(N,m):\n",
    "arr = np.arange(N)\n",
    "sums = arr[:,None] + arr[None, :]\n",
    "# avoid duplicate counting\n",
    "sums_upper = np.triu(sums)\n",
    "divisible = sums_upper%2 == 0\n",
    "np.argwhere(divisible)"
   ]
  },
  {
   "cell_type": "markdown",
   "id": "ab17a92b-243f-41c5-9fbe-a342800aa034",
   "metadata": {},
   "source": [
    "### Set"
   ]
  },
  {
   "cell_type": "code",
   "execution_count": 49,
   "id": "40f846e2-db20-4394-a193-3d02e05615c4",
   "metadata": {},
   "outputs": [
    {
     "data": {
      "text/plain": [
       "{' ', 'a', 'e', 'h', 'o', 'r', 'u', 'w', 'y'}"
      ]
     },
     "execution_count": 49,
     "metadata": {},
     "output_type": "execute_result"
    }
   ],
   "source": [
    "a = 'heyahow are you'\n",
    "set_a = set(a)\n",
    "set_a"
   ]
  },
  {
   "cell_type": "code",
   "execution_count": 51,
   "id": "95c7e70f-5900-495f-b470-456d6498f75e",
   "metadata": {},
   "outputs": [
    {
     "data": {
      "text/plain": [
       "True"
      ]
     },
     "execution_count": 51,
     "metadata": {},
     "output_type": "execute_result"
    }
   ],
   "source": [
    "'a' in set_a"
   ]
  },
  {
   "cell_type": "code",
   "execution_count": 52,
   "id": "e29a2bd5-12d4-49cd-90dc-299fc5e62afb",
   "metadata": {},
   "outputs": [
    {
     "data": {
      "text/plain": [
       "{'heyahow are you'}"
      ]
     },
     "execution_count": 52,
     "metadata": {},
     "output_type": "execute_result"
    }
   ],
   "source": [
    "a = ['heyahow are you']\n",
    "set_a = set(a)\n",
    "set_a"
   ]
  },
  {
   "cell_type": "code",
   "execution_count": 53,
   "id": "973ecca3-219f-482b-88c4-ef7a2b14ab1f",
   "metadata": {},
   "outputs": [
    {
     "data": {
      "text/plain": [
       "False"
      ]
     },
     "execution_count": 53,
     "metadata": {},
     "output_type": "execute_result"
    }
   ],
   "source": [
    "'a' in set_a"
   ]
  },
  {
   "cell_type": "code",
   "execution_count": 149,
   "id": "aefb06ca-b696-4c71-8301-ed7de9284370",
   "metadata": {},
   "outputs": [],
   "source": [
    "import pandas as pd"
   ]
  },
  {
   "cell_type": "code",
   "execution_count": 150,
   "id": "01357b8f-54c5-4ef6-9084-79559e858b35",
   "metadata": {},
   "outputs": [
    {
     "data": {
      "text/html": [
       "<div>\n",
       "<style scoped>\n",
       "    .dataframe tbody tr th:only-of-type {\n",
       "        vertical-align: middle;\n",
       "    }\n",
       "\n",
       "    .dataframe tbody tr th {\n",
       "        vertical-align: top;\n",
       "    }\n",
       "\n",
       "    .dataframe thead th {\n",
       "        text-align: right;\n",
       "    }\n",
       "</style>\n",
       "<table border=\"1\" class=\"dataframe\">\n",
       "  <thead>\n",
       "    <tr style=\"text-align: right;\">\n",
       "      <th></th>\n",
       "      <th>#a</th>\n",
       "      <th>e</th>\n",
       "      <th>i</th>\n",
       "      <th>H</th>\n",
       "      <th>diameter</th>\n",
       "      <th>BV</th>\n",
       "      <th>UB</th>\n",
       "    </tr>\n",
       "  </thead>\n",
       "  <tbody>\n",
       "    <tr>\n",
       "      <th>0</th>\n",
       "      <td>2.766807</td>\n",
       "      <td>0.075797</td>\n",
       "      <td>10.593981</td>\n",
       "      <td>3.34</td>\n",
       "      <td>952.4</td>\n",
       "      <td>0.713</td>\n",
       "      <td>0.426</td>\n",
       "    </tr>\n",
       "    <tr>\n",
       "      <th>1</th>\n",
       "      <td>2.772434</td>\n",
       "      <td>0.231565</td>\n",
       "      <td>34.836257</td>\n",
       "      <td>4.13</td>\n",
       "      <td>545.0</td>\n",
       "      <td>0.635</td>\n",
       "      <td>0.284</td>\n",
       "    </tr>\n",
       "  </tbody>\n",
       "</table>\n",
       "</div>"
      ],
      "text/plain": [
       "         #a         e          i     H  diameter     BV     UB\n",
       "0  2.766807  0.075797  10.593981  3.34     952.4  0.713  0.426\n",
       "1  2.772434  0.231565  34.836257  4.13     545.0  0.635  0.284"
      ]
     },
     "execution_count": 150,
     "metadata": {},
     "output_type": "execute_result"
    }
   ],
   "source": [
    "df = pd.read_csv(\"datasets/asteroids5000.csv\")\n",
    "df.head(2)"
   ]
  },
  {
   "cell_type": "code",
   "execution_count": 151,
   "id": "92288d5a-098f-480f-a4b8-5531bf4bc688",
   "metadata": {},
   "outputs": [
    {
     "data": {
      "text/plain": [
       "#a             0\n",
       "e              0\n",
       "i              0\n",
       "H              0\n",
       "diameter    3082\n",
       "BV          4059\n",
       "UB          4100\n",
       "dtype: int64"
      ]
     },
     "execution_count": 151,
     "metadata": {},
     "output_type": "execute_result"
    }
   ],
   "source": [
    "df.isna().sum()"
   ]
  },
  {
   "cell_type": "code",
   "execution_count": 152,
   "id": "28c6dace-1ac3-4dca-be8c-f4fd07f331b6",
   "metadata": {},
   "outputs": [
    {
     "data": {
      "text/html": [
       "<div>\n",
       "<style scoped>\n",
       "    .dataframe tbody tr th:only-of-type {\n",
       "        vertical-align: middle;\n",
       "    }\n",
       "\n",
       "    .dataframe tbody tr th {\n",
       "        vertical-align: top;\n",
       "    }\n",
       "\n",
       "    .dataframe thead th {\n",
       "        text-align: right;\n",
       "    }\n",
       "</style>\n",
       "<table border=\"1\" class=\"dataframe\">\n",
       "  <thead>\n",
       "    <tr style=\"text-align: right;\">\n",
       "      <th></th>\n",
       "      <th>#a</th>\n",
       "      <th>e</th>\n",
       "      <th>i</th>\n",
       "      <th>H</th>\n",
       "      <th>diameter</th>\n",
       "      <th>BV</th>\n",
       "      <th>UB</th>\n",
       "    </tr>\n",
       "  </thead>\n",
       "  <tbody>\n",
       "    <tr>\n",
       "      <th>32</th>\n",
       "      <td>2.867773</td>\n",
       "      <td>0.336856</td>\n",
       "      <td>1.868784</td>\n",
       "      <td>8.55</td>\n",
       "      <td>NaN</td>\n",
       "      <td>0.848</td>\n",
       "      <td>0.438</td>\n",
       "    </tr>\n",
       "    <tr>\n",
       "      <th>63</th>\n",
       "      <td>2.681544</td>\n",
       "      <td>0.126832</td>\n",
       "      <td>1.310186</td>\n",
       "      <td>7.67</td>\n",
       "      <td>NaN</td>\n",
       "      <td>0.734</td>\n",
       "      <td>0.254</td>\n",
       "    </tr>\n",
       "    <tr>\n",
       "      <th>72</th>\n",
       "      <td>2.665216</td>\n",
       "      <td>0.044128</td>\n",
       "      <td>2.370454</td>\n",
       "      <td>9.00</td>\n",
       "      <td>44.44</td>\n",
       "      <td>NaN</td>\n",
       "      <td>NaN</td>\n",
       "    </tr>\n",
       "    <tr>\n",
       "      <th>126</th>\n",
       "      <td>2.755397</td>\n",
       "      <td>0.065880</td>\n",
       "      <td>8.240407</td>\n",
       "      <td>8.30</td>\n",
       "      <td>122.00</td>\n",
       "      <td>NaN</td>\n",
       "      <td>NaN</td>\n",
       "    </tr>\n",
       "    <tr>\n",
       "      <th>139</th>\n",
       "      <td>2.667607</td>\n",
       "      <td>0.213584</td>\n",
       "      <td>11.889643</td>\n",
       "      <td>8.20</td>\n",
       "      <td>131.03</td>\n",
       "      <td>NaN</td>\n",
       "      <td>NaN</td>\n",
       "    </tr>\n",
       "    <tr>\n",
       "      <th>...</th>\n",
       "      <td>...</td>\n",
       "      <td>...</td>\n",
       "      <td>...</td>\n",
       "      <td>...</td>\n",
       "      <td>...</td>\n",
       "      <td>...</td>\n",
       "      <td>...</td>\n",
       "    </tr>\n",
       "    <tr>\n",
       "      <th>4995</th>\n",
       "      <td>2.729474</td>\n",
       "      <td>0.123413</td>\n",
       "      <td>12.227612</td>\n",
       "      <td>12.80</td>\n",
       "      <td>NaN</td>\n",
       "      <td>NaN</td>\n",
       "      <td>NaN</td>\n",
       "    </tr>\n",
       "    <tr>\n",
       "      <th>4996</th>\n",
       "      <td>2.916651</td>\n",
       "      <td>0.018102</td>\n",
       "      <td>2.952126</td>\n",
       "      <td>12.20</td>\n",
       "      <td>NaN</td>\n",
       "      <td>NaN</td>\n",
       "      <td>NaN</td>\n",
       "    </tr>\n",
       "    <tr>\n",
       "      <th>4997</th>\n",
       "      <td>2.684141</td>\n",
       "      <td>0.207573</td>\n",
       "      <td>6.455905</td>\n",
       "      <td>12.70</td>\n",
       "      <td>NaN</td>\n",
       "      <td>NaN</td>\n",
       "      <td>NaN</td>\n",
       "    </tr>\n",
       "    <tr>\n",
       "      <th>4998</th>\n",
       "      <td>2.605270</td>\n",
       "      <td>0.124152</td>\n",
       "      <td>11.921943</td>\n",
       "      <td>11.90</td>\n",
       "      <td>NaN</td>\n",
       "      <td>NaN</td>\n",
       "      <td>NaN</td>\n",
       "    </tr>\n",
       "    <tr>\n",
       "      <th>4999</th>\n",
       "      <td>3.014279</td>\n",
       "      <td>0.080232</td>\n",
       "      <td>10.372670</td>\n",
       "      <td>12.10</td>\n",
       "      <td>NaN</td>\n",
       "      <td>NaN</td>\n",
       "      <td>NaN</td>\n",
       "    </tr>\n",
       "  </tbody>\n",
       "</table>\n",
       "<p>4233 rows × 7 columns</p>\n",
       "</div>"
      ],
      "text/plain": [
       "            #a         e          i      H  diameter     BV     UB\n",
       "32    2.867773  0.336856   1.868784   8.55       NaN  0.848  0.438\n",
       "63    2.681544  0.126832   1.310186   7.67       NaN  0.734  0.254\n",
       "72    2.665216  0.044128   2.370454   9.00     44.44    NaN    NaN\n",
       "126   2.755397  0.065880   8.240407   8.30    122.00    NaN    NaN\n",
       "139   2.667607  0.213584  11.889643   8.20    131.03    NaN    NaN\n",
       "...        ...       ...        ...    ...       ...    ...    ...\n",
       "4995  2.729474  0.123413  12.227612  12.80       NaN    NaN    NaN\n",
       "4996  2.916651  0.018102   2.952126  12.20       NaN    NaN    NaN\n",
       "4997  2.684141  0.207573   6.455905  12.70       NaN    NaN    NaN\n",
       "4998  2.605270  0.124152  11.921943  11.90       NaN    NaN    NaN\n",
       "4999  3.014279  0.080232  10.372670  12.10       NaN    NaN    NaN\n",
       "\n",
       "[4233 rows x 7 columns]"
      ]
     },
     "execution_count": 152,
     "metadata": {},
     "output_type": "execute_result"
    }
   ],
   "source": [
    "nandf = df[df.isna().any(axis = 1)]\n",
    "nandf"
   ]
  },
  {
   "cell_type": "code",
   "execution_count": 154,
   "id": "61804b53-de95-498d-9c31-4c97a56a2954",
   "metadata": {},
   "outputs": [
    {
     "data": {
      "text/html": [
       "<div>\n",
       "<style scoped>\n",
       "    .dataframe tbody tr th:only-of-type {\n",
       "        vertical-align: middle;\n",
       "    }\n",
       "\n",
       "    .dataframe tbody tr th {\n",
       "        vertical-align: top;\n",
       "    }\n",
       "\n",
       "    .dataframe thead th {\n",
       "        text-align: right;\n",
       "    }\n",
       "</style>\n",
       "<table border=\"1\" class=\"dataframe\">\n",
       "  <thead>\n",
       "    <tr style=\"text-align: right;\">\n",
       "      <th></th>\n",
       "      <th>#a</th>\n",
       "      <th>e</th>\n",
       "      <th>i</th>\n",
       "      <th>H</th>\n",
       "      <th>diameter</th>\n",
       "      <th>BV</th>\n",
       "      <th>UB</th>\n",
       "    </tr>\n",
       "  </thead>\n",
       "  <tbody>\n",
       "    <tr>\n",
       "      <th>0</th>\n",
       "      <td>2.766807</td>\n",
       "      <td>0.075797</td>\n",
       "      <td>10.593981</td>\n",
       "      <td>3.34</td>\n",
       "      <td>952.40</td>\n",
       "      <td>0.713</td>\n",
       "      <td>0.426</td>\n",
       "    </tr>\n",
       "    <tr>\n",
       "      <th>1</th>\n",
       "      <td>2.772434</td>\n",
       "      <td>0.231565</td>\n",
       "      <td>34.836257</td>\n",
       "      <td>4.13</td>\n",
       "      <td>545.00</td>\n",
       "      <td>0.635</td>\n",
       "      <td>0.284</td>\n",
       "    </tr>\n",
       "    <tr>\n",
       "      <th>2</th>\n",
       "      <td>2.670305</td>\n",
       "      <td>0.255287</td>\n",
       "      <td>12.980579</td>\n",
       "      <td>5.33</td>\n",
       "      <td>233.92</td>\n",
       "      <td>0.824</td>\n",
       "      <td>0.433</td>\n",
       "    </tr>\n",
       "    <tr>\n",
       "      <th>3</th>\n",
       "      <td>2.361384</td>\n",
       "      <td>0.088502</td>\n",
       "      <td>7.140518</td>\n",
       "      <td>3.20</td>\n",
       "      <td>530.00</td>\n",
       "      <td>0.782</td>\n",
       "      <td>0.492</td>\n",
       "    </tr>\n",
       "    <tr>\n",
       "      <th>4</th>\n",
       "      <td>2.574572</td>\n",
       "      <td>0.190872</td>\n",
       "      <td>5.367795</td>\n",
       "      <td>6.85</td>\n",
       "      <td>119.07</td>\n",
       "      <td>0.826</td>\n",
       "      <td>0.411</td>\n",
       "    </tr>\n",
       "    <tr>\n",
       "      <th>...</th>\n",
       "      <td>...</td>\n",
       "      <td>...</td>\n",
       "      <td>...</td>\n",
       "      <td>...</td>\n",
       "      <td>...</td>\n",
       "      <td>...</td>\n",
       "      <td>...</td>\n",
       "    </tr>\n",
       "    <tr>\n",
       "      <th>2207</th>\n",
       "      <td>3.994646</td>\n",
       "      <td>0.152564</td>\n",
       "      <td>5.165132</td>\n",
       "      <td>10.18</td>\n",
       "      <td>54.94</td>\n",
       "      <td>0.739</td>\n",
       "      <td>0.246</td>\n",
       "    </tr>\n",
       "    <tr>\n",
       "      <th>2237</th>\n",
       "      <td>3.015135</td>\n",
       "      <td>0.078634</td>\n",
       "      <td>9.154577</td>\n",
       "      <td>10.80</td>\n",
       "      <td>26.63</td>\n",
       "      <td>0.806</td>\n",
       "      <td>0.431</td>\n",
       "    </tr>\n",
       "    <tr>\n",
       "      <th>2268</th>\n",
       "      <td>3.164119</td>\n",
       "      <td>0.276308</td>\n",
       "      <td>0.469249</td>\n",
       "      <td>10.90</td>\n",
       "      <td>31.60</td>\n",
       "      <td>0.661</td>\n",
       "      <td>0.322</td>\n",
       "    </tr>\n",
       "    <tr>\n",
       "      <th>2294</th>\n",
       "      <td>3.204682</td>\n",
       "      <td>0.133434</td>\n",
       "      <td>2.247460</td>\n",
       "      <td>12.09</td>\n",
       "      <td>25.43</td>\n",
       "      <td>0.698</td>\n",
       "      <td>0.312</td>\n",
       "    </tr>\n",
       "    <tr>\n",
       "      <th>2639</th>\n",
       "      <td>3.990895</td>\n",
       "      <td>0.119714</td>\n",
       "      <td>13.448531</td>\n",
       "      <td>10.04</td>\n",
       "      <td>57.90</td>\n",
       "      <td>0.724</td>\n",
       "      <td>0.255</td>\n",
       "    </tr>\n",
       "  </tbody>\n",
       "</table>\n",
       "<p>767 rows × 7 columns</p>\n",
       "</div>"
      ],
      "text/plain": [
       "            #a         e          i      H  diameter     BV     UB\n",
       "0     2.766807  0.075797  10.593981   3.34    952.40  0.713  0.426\n",
       "1     2.772434  0.231565  34.836257   4.13    545.00  0.635  0.284\n",
       "2     2.670305  0.255287  12.980579   5.33    233.92  0.824  0.433\n",
       "3     2.361384  0.088502   7.140518   3.20    530.00  0.782  0.492\n",
       "4     2.574572  0.190872   5.367795   6.85    119.07  0.826  0.411\n",
       "...        ...       ...        ...    ...       ...    ...    ...\n",
       "2207  3.994646  0.152564   5.165132  10.18     54.94  0.739  0.246\n",
       "2237  3.015135  0.078634   9.154577  10.80     26.63  0.806  0.431\n",
       "2268  3.164119  0.276308   0.469249  10.90     31.60  0.661  0.322\n",
       "2294  3.204682  0.133434   2.247460  12.09     25.43  0.698  0.312\n",
       "2639  3.990895  0.119714  13.448531  10.04     57.90  0.724  0.255\n",
       "\n",
       "[767 rows x 7 columns]"
      ]
     },
     "execution_count": 154,
     "metadata": {},
     "output_type": "execute_result"
    }
   ],
   "source": [
    "notnandf = df[~df.isna().any(axis = 1)]\n",
    "notnandf"
   ]
  },
  {
   "cell_type": "code",
   "execution_count": 155,
   "id": "5ff21eb2-161b-4529-ba13-664545f6d16e",
   "metadata": {},
   "outputs": [
    {
     "data": {
      "text/html": [
       "<div>\n",
       "<style scoped>\n",
       "    .dataframe tbody tr th:only-of-type {\n",
       "        vertical-align: middle;\n",
       "    }\n",
       "\n",
       "    .dataframe tbody tr th {\n",
       "        vertical-align: top;\n",
       "    }\n",
       "\n",
       "    .dataframe thead th {\n",
       "        text-align: right;\n",
       "    }\n",
       "</style>\n",
       "<table border=\"1\" class=\"dataframe\">\n",
       "  <thead>\n",
       "    <tr style=\"text-align: right;\">\n",
       "      <th></th>\n",
       "      <th>#a</th>\n",
       "      <th>e</th>\n",
       "      <th>i</th>\n",
       "      <th>H</th>\n",
       "      <th>diameter</th>\n",
       "      <th>BV</th>\n",
       "      <th>UB</th>\n",
       "    </tr>\n",
       "  </thead>\n",
       "  <tbody>\n",
       "    <tr>\n",
       "      <th>72</th>\n",
       "      <td>2.665216</td>\n",
       "      <td>0.044128</td>\n",
       "      <td>2.370454</td>\n",
       "      <td>9.00</td>\n",
       "      <td>44.44</td>\n",
       "      <td>NaN</td>\n",
       "      <td>NaN</td>\n",
       "    </tr>\n",
       "    <tr>\n",
       "      <th>126</th>\n",
       "      <td>2.755397</td>\n",
       "      <td>0.065880</td>\n",
       "      <td>8.240407</td>\n",
       "      <td>8.30</td>\n",
       "      <td>122.00</td>\n",
       "      <td>NaN</td>\n",
       "      <td>NaN</td>\n",
       "    </tr>\n",
       "    <tr>\n",
       "      <th>139</th>\n",
       "      <td>2.667607</td>\n",
       "      <td>0.213584</td>\n",
       "      <td>11.889643</td>\n",
       "      <td>8.20</td>\n",
       "      <td>131.03</td>\n",
       "      <td>NaN</td>\n",
       "      <td>NaN</td>\n",
       "    </tr>\n",
       "    <tr>\n",
       "      <th>152</th>\n",
       "      <td>3.195781</td>\n",
       "      <td>0.077181</td>\n",
       "      <td>20.974194</td>\n",
       "      <td>7.58</td>\n",
       "      <td>184.93</td>\n",
       "      <td>NaN</td>\n",
       "      <td>NaN</td>\n",
       "    </tr>\n",
       "    <tr>\n",
       "      <th>155</th>\n",
       "      <td>2.580894</td>\n",
       "      <td>0.195484</td>\n",
       "      <td>12.162221</td>\n",
       "      <td>10.60</td>\n",
       "      <td>NaN</td>\n",
       "      <td>NaN</td>\n",
       "      <td>NaN</td>\n",
       "    </tr>\n",
       "    <tr>\n",
       "      <th>...</th>\n",
       "      <td>...</td>\n",
       "      <td>...</td>\n",
       "      <td>...</td>\n",
       "      <td>...</td>\n",
       "      <td>...</td>\n",
       "      <td>...</td>\n",
       "      <td>...</td>\n",
       "    </tr>\n",
       "    <tr>\n",
       "      <th>4995</th>\n",
       "      <td>2.729474</td>\n",
       "      <td>0.123413</td>\n",
       "      <td>12.227612</td>\n",
       "      <td>12.80</td>\n",
       "      <td>NaN</td>\n",
       "      <td>NaN</td>\n",
       "      <td>NaN</td>\n",
       "    </tr>\n",
       "    <tr>\n",
       "      <th>4996</th>\n",
       "      <td>2.916651</td>\n",
       "      <td>0.018102</td>\n",
       "      <td>2.952126</td>\n",
       "      <td>12.20</td>\n",
       "      <td>NaN</td>\n",
       "      <td>NaN</td>\n",
       "      <td>NaN</td>\n",
       "    </tr>\n",
       "    <tr>\n",
       "      <th>4997</th>\n",
       "      <td>2.684141</td>\n",
       "      <td>0.207573</td>\n",
       "      <td>6.455905</td>\n",
       "      <td>12.70</td>\n",
       "      <td>NaN</td>\n",
       "      <td>NaN</td>\n",
       "      <td>NaN</td>\n",
       "    </tr>\n",
       "    <tr>\n",
       "      <th>4998</th>\n",
       "      <td>2.605270</td>\n",
       "      <td>0.124152</td>\n",
       "      <td>11.921943</td>\n",
       "      <td>11.90</td>\n",
       "      <td>NaN</td>\n",
       "      <td>NaN</td>\n",
       "      <td>NaN</td>\n",
       "    </tr>\n",
       "    <tr>\n",
       "      <th>4999</th>\n",
       "      <td>3.014279</td>\n",
       "      <td>0.080232</td>\n",
       "      <td>10.372670</td>\n",
       "      <td>12.10</td>\n",
       "      <td>NaN</td>\n",
       "      <td>NaN</td>\n",
       "      <td>NaN</td>\n",
       "    </tr>\n",
       "  </tbody>\n",
       "</table>\n",
       "<p>4100 rows × 7 columns</p>\n",
       "</div>"
      ],
      "text/plain": [
       "            #a         e          i      H  diameter  BV  UB\n",
       "72    2.665216  0.044128   2.370454   9.00     44.44 NaN NaN\n",
       "126   2.755397  0.065880   8.240407   8.30    122.00 NaN NaN\n",
       "139   2.667607  0.213584  11.889643   8.20    131.03 NaN NaN\n",
       "152   3.195781  0.077181  20.974194   7.58    184.93 NaN NaN\n",
       "155   2.580894  0.195484  12.162221  10.60       NaN NaN NaN\n",
       "...        ...       ...        ...    ...       ...  ..  ..\n",
       "4995  2.729474  0.123413  12.227612  12.80       NaN NaN NaN\n",
       "4996  2.916651  0.018102   2.952126  12.20       NaN NaN NaN\n",
       "4997  2.684141  0.207573   6.455905  12.70       NaN NaN NaN\n",
       "4998  2.605270  0.124152  11.921943  11.90       NaN NaN NaN\n",
       "4999  3.014279  0.080232  10.372670  12.10       NaN NaN NaN\n",
       "\n",
       "[4100 rows x 7 columns]"
      ]
     },
     "execution_count": 155,
     "metadata": {},
     "output_type": "execute_result"
    }
   ],
   "source": [
    "nandf3 = df[df[['BV', 'UB']].isna().any(axis = 1)]\n",
    "nandf3"
   ]
  },
  {
   "cell_type": "code",
   "execution_count": 156,
   "id": "b4aad9bf-a2d7-4223-aed7-b74c8949910f",
   "metadata": {},
   "outputs": [
    {
     "data": {
      "text/html": [
       "<div>\n",
       "<style scoped>\n",
       "    .dataframe tbody tr th:only-of-type {\n",
       "        vertical-align: middle;\n",
       "    }\n",
       "\n",
       "    .dataframe tbody tr th {\n",
       "        vertical-align: top;\n",
       "    }\n",
       "\n",
       "    .dataframe thead th {\n",
       "        text-align: right;\n",
       "    }\n",
       "</style>\n",
       "<table border=\"1\" class=\"dataframe\">\n",
       "  <thead>\n",
       "    <tr style=\"text-align: right;\">\n",
       "      <th></th>\n",
       "      <th>#a</th>\n",
       "      <th>e</th>\n",
       "      <th>i</th>\n",
       "      <th>H</th>\n",
       "      <th>diameter</th>\n",
       "      <th>BV</th>\n",
       "      <th>UB</th>\n",
       "    </tr>\n",
       "  </thead>\n",
       "  <tbody>\n",
       "    <tr>\n",
       "      <th>72</th>\n",
       "      <td>2.665216</td>\n",
       "      <td>0.044128</td>\n",
       "      <td>2.370454</td>\n",
       "      <td>9.00</td>\n",
       "      <td>44.44</td>\n",
       "      <td>NaN</td>\n",
       "      <td>NaN</td>\n",
       "    </tr>\n",
       "    <tr>\n",
       "      <th>126</th>\n",
       "      <td>2.755397</td>\n",
       "      <td>0.065880</td>\n",
       "      <td>8.240407</td>\n",
       "      <td>8.30</td>\n",
       "      <td>122.00</td>\n",
       "      <td>NaN</td>\n",
       "      <td>NaN</td>\n",
       "    </tr>\n",
       "    <tr>\n",
       "      <th>139</th>\n",
       "      <td>2.667607</td>\n",
       "      <td>0.213584</td>\n",
       "      <td>11.889643</td>\n",
       "      <td>8.20</td>\n",
       "      <td>131.03</td>\n",
       "      <td>NaN</td>\n",
       "      <td>NaN</td>\n",
       "    </tr>\n",
       "    <tr>\n",
       "      <th>152</th>\n",
       "      <td>3.195781</td>\n",
       "      <td>0.077181</td>\n",
       "      <td>20.974194</td>\n",
       "      <td>7.58</td>\n",
       "      <td>184.93</td>\n",
       "      <td>NaN</td>\n",
       "      <td>NaN</td>\n",
       "    </tr>\n",
       "    <tr>\n",
       "      <th>155</th>\n",
       "      <td>2.580894</td>\n",
       "      <td>0.195484</td>\n",
       "      <td>12.162221</td>\n",
       "      <td>10.60</td>\n",
       "      <td>NaN</td>\n",
       "      <td>NaN</td>\n",
       "      <td>NaN</td>\n",
       "    </tr>\n",
       "    <tr>\n",
       "      <th>...</th>\n",
       "      <td>...</td>\n",
       "      <td>...</td>\n",
       "      <td>...</td>\n",
       "      <td>...</td>\n",
       "      <td>...</td>\n",
       "      <td>...</td>\n",
       "      <td>...</td>\n",
       "    </tr>\n",
       "    <tr>\n",
       "      <th>4995</th>\n",
       "      <td>2.729474</td>\n",
       "      <td>0.123413</td>\n",
       "      <td>12.227612</td>\n",
       "      <td>12.80</td>\n",
       "      <td>NaN</td>\n",
       "      <td>NaN</td>\n",
       "      <td>NaN</td>\n",
       "    </tr>\n",
       "    <tr>\n",
       "      <th>4996</th>\n",
       "      <td>2.916651</td>\n",
       "      <td>0.018102</td>\n",
       "      <td>2.952126</td>\n",
       "      <td>12.20</td>\n",
       "      <td>NaN</td>\n",
       "      <td>NaN</td>\n",
       "      <td>NaN</td>\n",
       "    </tr>\n",
       "    <tr>\n",
       "      <th>4997</th>\n",
       "      <td>2.684141</td>\n",
       "      <td>0.207573</td>\n",
       "      <td>6.455905</td>\n",
       "      <td>12.70</td>\n",
       "      <td>NaN</td>\n",
       "      <td>NaN</td>\n",
       "      <td>NaN</td>\n",
       "    </tr>\n",
       "    <tr>\n",
       "      <th>4998</th>\n",
       "      <td>2.605270</td>\n",
       "      <td>0.124152</td>\n",
       "      <td>11.921943</td>\n",
       "      <td>11.90</td>\n",
       "      <td>NaN</td>\n",
       "      <td>NaN</td>\n",
       "      <td>NaN</td>\n",
       "    </tr>\n",
       "    <tr>\n",
       "      <th>4999</th>\n",
       "      <td>3.014279</td>\n",
       "      <td>0.080232</td>\n",
       "      <td>10.372670</td>\n",
       "      <td>12.10</td>\n",
       "      <td>NaN</td>\n",
       "      <td>NaN</td>\n",
       "      <td>NaN</td>\n",
       "    </tr>\n",
       "  </tbody>\n",
       "</table>\n",
       "<p>4059 rows × 7 columns</p>\n",
       "</div>"
      ],
      "text/plain": [
       "            #a         e          i      H  diameter  BV  UB\n",
       "72    2.665216  0.044128   2.370454   9.00     44.44 NaN NaN\n",
       "126   2.755397  0.065880   8.240407   8.30    122.00 NaN NaN\n",
       "139   2.667607  0.213584  11.889643   8.20    131.03 NaN NaN\n",
       "152   3.195781  0.077181  20.974194   7.58    184.93 NaN NaN\n",
       "155   2.580894  0.195484  12.162221  10.60       NaN NaN NaN\n",
       "...        ...       ...        ...    ...       ...  ..  ..\n",
       "4995  2.729474  0.123413  12.227612  12.80       NaN NaN NaN\n",
       "4996  2.916651  0.018102   2.952126  12.20       NaN NaN NaN\n",
       "4997  2.684141  0.207573   6.455905  12.70       NaN NaN NaN\n",
       "4998  2.605270  0.124152  11.921943  11.90       NaN NaN NaN\n",
       "4999  3.014279  0.080232  10.372670  12.10       NaN NaN NaN\n",
       "\n",
       "[4059 rows x 7 columns]"
      ]
     },
     "execution_count": 156,
     "metadata": {},
     "output_type": "execute_result"
    }
   ],
   "source": [
    "nandf3 = df[df[['BV']].isna().any(axis = 1)]\n",
    "nandf3"
   ]
  },
  {
   "cell_type": "code",
   "execution_count": null,
   "id": "20b542a7-c148-49aa-86c0-3791d4ecb4ec",
   "metadata": {},
   "outputs": [],
   "source": []
  }
 ],
 "metadata": {
  "kernelspec": {
   "display_name": "Python 3 (ipykernel)",
   "language": "python",
   "name": "python3"
  },
  "language_info": {
   "codemirror_mode": {
    "name": "ipython",
    "version": 3
   },
   "file_extension": ".py",
   "mimetype": "text/x-python",
   "name": "python",
   "nbconvert_exporter": "python",
   "pygments_lexer": "ipython3",
   "version": "3.9.19"
  }
 },
 "nbformat": 4,
 "nbformat_minor": 5
}
