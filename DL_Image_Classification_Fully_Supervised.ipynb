{
 "cells": [
  {
   "cell_type": "markdown",
   "id": "9d41ca6b-3dd3-45a7-b249-cd35bff45ec3",
   "metadata": {},
   "source": [
    "##### Refer <a href=\"https://github.com/mgupta70/code-blocks/blob/main/Pytorch%20primer.ipynb\">Pytorch Primer</a>  for full pipeline -  The only modification we need to make is shown below"
   ]
  },
  {
   "cell_type": "code",
   "execution_count": null,
   "id": "643cdb02-1371-4e45-9453-5b122700d638",
   "metadata": {},
   "outputs": [],
   "source": [
    "model = torchvision.models.resnet18(pretrained=True)\n",
    "model.fc = torch.nn.Linear(model.fc.in_features, num_classes)\n",
    "model = model.to(device)"
   ]
  },
  {
   "cell_type": "markdown",
   "id": "2f1dd623-5ab1-4c52-b941-28000e6c5a86",
   "metadata": {},
   "source": [
    "##### In case we need to define custom Augmentations, refer - <a href=\"https://github.com/mgupta70/code-blocks/blob/main/DL_Albumentations_Image_Augmentations.ipynb\">DL_Albumentations_Image_Augmentations</a>"
   ]
  },
  {
   "cell_type": "code",
   "execution_count": null,
   "id": "c011d868-efc6-401e-9775-5e04dc1af1e4",
   "metadata": {},
   "outputs": [],
   "source": []
  }
 ],
 "metadata": {
  "kernelspec": {
   "display_name": "Python 3 (ipykernel)",
   "language": "python",
   "name": "python3"
  },
  "language_info": {
   "codemirror_mode": {
    "name": "ipython",
    "version": 3
   },
   "file_extension": ".py",
   "mimetype": "text/x-python",
   "name": "python",
   "nbconvert_exporter": "python",
   "pygments_lexer": "ipython3",
   "version": "3.9.19"
  }
 },
 "nbformat": 4,
 "nbformat_minor": 5
}
