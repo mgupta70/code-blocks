{
 "cells": [
  {
   "cell_type": "code",
   "execution_count": 2,
   "id": "5a27fdf4-63c4-4c65-a90f-01e202946ca4",
   "metadata": {},
   "outputs": [],
   "source": [
    "import torch\n",
    "import torchvision\n",
    "device = torch.device(\"cuda\" if torch.cuda.is_available() else \"cpu\")"
   ]
  },
  {
   "cell_type": "markdown",
   "id": "9d41ca6b-3dd3-45a7-b249-cd35bff45ec3",
   "metadata": {},
   "source": [
    "##### Refer <a href=\"https://github.com/mgupta70/code-blocks/blob/main/Pytorch%20primer.ipynb\">Pytorch Primer</a>  for full pipeline -  The only modification we need to make is shown below"
   ]
  },
  {
   "cell_type": "markdown",
   "id": "2f1dd623-5ab1-4c52-b941-28000e6c5a86",
   "metadata": {},
   "source": [
    "##### In case we need to define custom Augmentations, refer - <a href=\"https://github.com/mgupta70/code-blocks/blob/main/DL_Albumentations_Image_Augmentations.ipynb\">DL_Albumentations_Image_Augmentations</a>"
   ]
  },
  {
   "cell_type": "markdown",
   "id": "b9cafcbb-a649-486e-a04b-9154c265a224",
   "metadata": {},
   "source": [
    "##### 1. fine-tuning the whole network - ideal when dataset is large"
   ]
  },
  {
   "cell_type": "code",
   "execution_count": 4,
   "id": "b0e3d2a3-3f8c-462d-848e-f805e6652571",
   "metadata": {},
   "outputs": [],
   "source": [
    "num_classes = 10"
   ]
  },
  {
   "cell_type": "code",
   "execution_count": 6,
   "id": "643cdb02-1371-4e45-9453-5b122700d638",
   "metadata": {},
   "outputs": [
    {
     "name": "stdout",
     "output_type": "stream",
     "text": [
      "total params for finetuning entire network:  11181642\n"
     ]
    }
   ],
   "source": [
    "model = torchvision.models.resnet18(pretrained=True)\n",
    "model.fc = torch.nn.Linear(model.fc.in_features, num_classes)\n",
    "model = model.to(device)\n",
    "\n",
    "# count trainable params\n",
    "num_trainable_params = sum(p.numel() for p in model.parameters() if p.requires_grad)\n",
    "print('total params for finetuning entire network: ', num_trainable_params)"
   ]
  },
  {
   "cell_type": "markdown",
   "id": "e22ec55e-7cb8-4b2b-9257-7a6ce40c9748",
   "metadata": {},
   "source": [
    "##### 2 Transfer learning - only tuning the top layers, freezing other layers - suitable when dataset is small."
   ]
  },
  {
   "cell_type": "code",
   "execution_count": 7,
   "id": "26625214-0042-4eda-b71a-8c541dc7eb2b",
   "metadata": {},
   "outputs": [
    {
     "name": "stdout",
     "output_type": "stream",
     "text": [
      "total params in Transfer Learning only the head:  5130\n"
     ]
    }
   ],
   "source": [
    "model = torchvision.models.resnet18(pretrained=True)\n",
    "\n",
    "# Freeze the parameters of the earlier layers\n",
    "for param in model.parameters():\n",
    "    param.requires_grad = False\n",
    "\n",
    "# Replace the final fully connected layer\n",
    "model.fc = torch.nn.Linear(model.fc.in_features, num_classes)\n",
    "model = model.to(device)\n",
    "\n",
    "# count trainable params\n",
    "num_trainable_params = sum(p.numel() for p in model.parameters() if p.requires_grad)\n",
    "print('total params in Transfer Learning only the head: ', num_trainable_params)"
   ]
  }
 ],
 "metadata": {
  "kernelspec": {
   "display_name": "Python 3 (ipykernel)",
   "language": "python",
   "name": "python3"
  },
  "language_info": {
   "codemirror_mode": {
    "name": "ipython",
    "version": 3
   },
   "file_extension": ".py",
   "mimetype": "text/x-python",
   "name": "python",
   "nbconvert_exporter": "python",
   "pygments_lexer": "ipython3",
   "version": "3.9.19"
  }
 },
 "nbformat": 4,
 "nbformat_minor": 5
}
