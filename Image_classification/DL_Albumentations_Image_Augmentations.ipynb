{
 "cells": [
  {
   "cell_type": "code",
   "execution_count": 1,
   "id": "aa62a034-a995-499b-a773-1ebbdffe525b",
   "metadata": {},
   "outputs": [],
   "source": [
    "import albumentations as A"
   ]
  },
  {
   "cell_type": "code",
   "execution_count": null,
   "id": "92243dc8-0414-4b28-8b87-ebab826a8b33",
   "metadata": {},
   "outputs": [],
   "source": [
    "# Modify as per need\n",
    "alb_transform = A.Compose([\n",
    "    A.Resize(height = 224, width = 224),\n",
    "    A.D4(p=1),\n",
    "    A.GridDistortion(distort_limit=(-0.1, 0.1), p=0.5),\n",
    "    A.ShiftScaleRotate(rotate_limit = (-10,10),interpolation = 0, p=0.5),\n",
    "    A.RandomBrightnessContrast(p=0.5),\n",
    "    A.AdvancedBlur(p=0.2),\n",
    "    A.Defocus(radius=(3, 5), alias_blur=(0.05, 0.15), p=0.15),\n",
    "    #A.Equalize(p=1), ########## Binarise #####\n",
    "    A.GaussNoise(p=0.15),\n",
    "    A.GaussianBlur(p=0.2),\n",
    "    A.GlassBlur(p=0.1), \n",
    "    A.Morphological(scale=(2, 3), operation='dilation', p=0.2),\n",
    "    A.Morphological(scale=(2, 3), operation='erosion', p=0.2)\n",
    "])"
   ]
  },
  {
   "cell_type": "code",
   "execution_count": null,
   "id": "bd8c296a-9d68-4748-9e80-19a1f268f812",
   "metadata": {},
   "outputs": [],
   "source": [
    "im = cv2.imread('...')\n",
    "transformed_im = alb_transform(image = im)"
   ]
  },
  {
   "cell_type": "markdown",
   "id": "8f122d0e-066c-45de-baf1-692735c6962f",
   "metadata": {},
   "source": [
    "##### If required: \n",
    "https://albumentations.ai/docs/getting_started/image_augmentation/"
   ]
  },
  {
   "cell_type": "code",
   "execution_count": null,
   "id": "27133820-457f-4e7c-b8f5-64205a9f6c13",
   "metadata": {},
   "outputs": [],
   "source": []
  }
 ],
 "metadata": {
  "kernelspec": {
   "display_name": "Python 3 (ipykernel)",
   "language": "python",
   "name": "python3"
  },
  "language_info": {
   "codemirror_mode": {
    "name": "ipython",
    "version": 3
   },
   "file_extension": ".py",
   "mimetype": "text/x-python",
   "name": "python",
   "nbconvert_exporter": "python",
   "pygments_lexer": "ipython3",
   "version": "3.9.19"
  }
 },
 "nbformat": 4,
 "nbformat_minor": 5
}
