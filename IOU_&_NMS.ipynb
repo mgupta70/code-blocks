{
  "nbformat": 4,
  "nbformat_minor": 0,
  "metadata": {
    "colab": {
      "provenance": []
    },
    "kernelspec": {
      "name": "python3",
      "display_name": "Python 3"
    },
    "language_info": {
      "name": "python"
    }
  },
  "cells": [
    {
      "cell_type": "code",
      "execution_count": 52,
      "metadata": {
        "colab": {
          "base_uri": "https://localhost:8080/"
        },
        "id": "Uv7oh1_WL3ic",
        "outputId": "3389c3e1-106a-404c-bd29-70fca9a46bed"
      },
      "outputs": [
        {
          "output_type": "stream",
          "name": "stdout",
          "text": [
            "area1:  350\n",
            "area2:  725\n",
            "area3:  725\n",
            "Intersection coordinates:  [20 25 29 35]\n",
            "IOU/Union:  90 / 985\n",
            "IOU:  0.09137055837563451\n",
            "NO intersection\n",
            "IOU:  0\n",
            "Intersection coordinates:  [15 10 29 35]\n",
            "IOU/Union:  350 / 350\n",
            "IOU:  1.0\n"
          ]
        }
      ],
      "source": [
        "import numpy as np\n",
        "\n",
        "box1 = np.array([15, 10, 29, 35]) # x_l, y_l, x_r, y_r\n",
        "box2 = np.array([20, 25, 45, 54]) # x_l, y_l, x_r, y_r\n",
        "box3 = np.array([120, 25, 145, 54]) # x_l, y_l, x_r, y_r\n",
        "\n",
        "boxes = [box1, box2]\n",
        "\n",
        "def calculate_area(box):\n",
        "  width = box[2]-box[0]\n",
        "  height = box[3] - box[1]\n",
        "\n",
        "  return width*height\n",
        "\n",
        "def get_intersection(box1, box2):\n",
        "  x_l = max(box1[0], box2[0])\n",
        "  y_l = max(box1[1], box2[1])\n",
        "\n",
        "  x_r = min(box1[2], box2[2])\n",
        "  y_r = min(box1[3], box2[3])\n",
        "\n",
        "  if x_r>=x_l and y_r>=y_l:\n",
        "\n",
        "    intersecting_box = np.array([x_l, y_l, x_r, y_r])\n",
        "    print('Intersection coordinates: ', intersecting_box)\n",
        "    intersection_area = calculate_area(intersecting_box)\n",
        "    union_area = calculate_area(box1) + calculate_area(box2) - intersection_area\n",
        "    print('IOU/Union: ', intersection_area, '/', union_area)\n",
        "    iou = intersection_area/union_area\n",
        "\n",
        "    return iou\n",
        "\n",
        "  else:\n",
        "    print('NO intersection')\n",
        "    return np.array(0)\n",
        "\n",
        "\n",
        "\n",
        "def get_intersectionv2(box1, box2):\n",
        "  # v2 also works fine\n",
        "  x_l = np.maximum(box1[0], box2[0]) # not np.max\n",
        "  y_l = np.maximum(box1[1], box2[1])\n",
        "\n",
        "  x_r = np.minimum(box1[2], box2[2])\n",
        "  y_r = np.minimum(box1[3], box2[3])\n",
        "\n",
        "  if x_r>=x_l and y_r>=y_l:\n",
        "\n",
        "    intersecting_box = np.array([x_l, y_l, x_r, y_r])\n",
        "    print('Intersection coordinates: ', intersecting_box)\n",
        "    intersection_area = calculate_area(intersecting_box)\n",
        "    union_area = calculate_area(box1) + calculate_area(box2) - intersection_area\n",
        "    print('IOU/Union: ', intersection_area, '/', union_area)\n",
        "    iou = intersection_area/union_area\n",
        "\n",
        "    return iou\n",
        "\n",
        "  else:\n",
        "    print('NO intersection')\n",
        "    return np.array(0)\n",
        "\n",
        "print('area1: ', calculate_area(box1))\n",
        "\n",
        "print('area2: ', calculate_area(box2))\n",
        "\n",
        "print('area3: ', calculate_area(box3))\n",
        "\n",
        "print('IOU: ', get_intersection(box1, box2))\n",
        "\n",
        "print('IOU: ', get_intersection(box1, box3)) ## no intersection\n",
        "\n",
        "print('IOU: ', get_intersection(box1, box1)) ## perfect overlap"
      ]
    },
    {
      "cell_type": "code",
      "source": [
        "boxes = [box1, box2, box3]\n",
        "\n",
        "n = len(boxes)\n",
        "iou_matrix = np.zeros((n,n))\n",
        "for i in range(len(boxes)):\n",
        "  for j in range(len(boxes)):\n",
        "    if i!=j:\n",
        "      iou_matrix[i,j] = get_intersection(boxes[i], boxes[j])\n",
        "\n",
        "print(iou_matrix)\n",
        "\n",
        "\n",
        "def get_ioumatrix(boxes):\n",
        "  n = len(boxes)\n",
        "  iou_matrix = np.zeros((n,n))\n",
        "  for i in range(len(boxes)):\n",
        "    for j in range(len(boxes)):\n",
        "      if i!=j:\n",
        "        iou_matrix[i,j] = get_intersection(boxes[i], boxes[j])\n",
        "\n",
        "  return iou_matrix\n"
      ],
      "metadata": {
        "colab": {
          "base_uri": "https://localhost:8080/"
        },
        "id": "FSwwm5okN7TA",
        "outputId": "094ef529-68c9-44e3-f647-1beac9db2e2c"
      },
      "execution_count": 60,
      "outputs": [
        {
          "output_type": "stream",
          "name": "stdout",
          "text": [
            "Intersection coordinates:  [20 25 29 35]\n",
            "IOU/Union:  90 / 985\n",
            "NO intersection\n",
            "Intersection coordinates:  [20 25 29 35]\n",
            "IOU/Union:  90 / 985\n",
            "NO intersection\n",
            "NO intersection\n",
            "NO intersection\n",
            "[[0.         0.09137056 0.        ]\n",
            " [0.09137056 0.         0.        ]\n",
            " [0.         0.         0.        ]]\n"
          ]
        }
      ]
    },
    {
      "cell_type": "code",
      "source": [
        "### NMS\n",
        "\n",
        "## putting everything together\n",
        "\n",
        "def calculate_area(box):\n",
        "  width = box[2]-box[0]\n",
        "  height = box[3] - box[1]\n",
        "  return width*height\n",
        "\n",
        "def get_intersection(box1, box2):\n",
        "  x_l = max(box1[0], box2[0])\n",
        "  y_l = max(box1[1], box2[1])\n",
        "  x_r = min(box1[2], box2[2])\n",
        "  y_r = min(box1[3], box2[3])\n",
        "\n",
        "  if x_r>=x_l and y_r>=y_l:\n",
        "    intersecting_box = np.array([x_l, y_l, x_r, y_r])\n",
        "    intersection_area = calculate_area(intersecting_box)\n",
        "    union_area = calculate_area(box1) + calculate_area(box2) - intersection_area\n",
        "    iou = intersection_area/union_area\n",
        "    return iou\n",
        "\n",
        "  else:\n",
        "    return np.array(0)\n",
        "\n",
        "\n"
      ],
      "metadata": {
        "id": "cZJw3rifQRpa"
      },
      "execution_count": 68,
      "outputs": []
    },
    {
      "cell_type": "code",
      "source": [
        "box1 = np.array([15, 10, 29, 35]) # x_l, y_l, x_r, y_r\n",
        "box2 = np.array([20, 25, 45, 54]) # x_l, y_l, x_r, y_r\n",
        "box3 = np.array([120, 25, 145, 54]) # x_l, y_l, x_r, y_r\n",
        "box4 = np.array([18, 10, 29, 35]) # x_l, y_l, x_r, y_r\n",
        "box5 = np.array([16, 10, 29, 35]) # x_l, y_l, x_r, y_r\n",
        "\n",
        "scores = np.array([0.9, 0.8, 0.7, 0.85, 0.88]) ## confidence\n",
        "\n",
        "boxes = [box1, box2, box3, box4, box5]\n",
        "iou_matrix = get_ioumatrix(boxes)\n",
        "print(iou_matrix)\n",
        "\n",
        "boxes_arr = np.stack(boxes)\n",
        "\n",
        "idxs = np.argsort(scores)[::-1] # [::-1] for reversing\n",
        "print('sorted idxs: ', idxs)\n",
        "\n",
        "\n",
        "keep = []\n",
        "keep.append(idxs[0])\n",
        "for idx in idxs:\n",
        "  print(iou_matrix[idx])\n",
        "  to_remove = (iou_matrix[idx]>0.5).nonzero()[0]\n",
        "\n",
        "  if to_remove.size>0:\n",
        "    for idx_r in to_remove:\n",
        "      print('remove: ', idx_r)\n",
        "\n",
        "  else:\n",
        "    print('keep: ', idx )\n",
        "    keep.append(idx)\n",
        "\n",
        "print('Final: ', keep)\n"
      ],
      "metadata": {
        "colab": {
          "base_uri": "https://localhost:8080/"
        },
        "id": "7yV-eSWPQT-9",
        "outputId": "03770432-fe55-4d75-b454-ce79cbe4b561"
      },
      "execution_count": 112,
      "outputs": [
        {
          "output_type": "stream",
          "name": "stdout",
          "text": [
            "[[0.         0.09137056 0.         0.78571429 0.92857143]\n",
            " [0.09137056 0.         0.         0.0989011  0.09375   ]\n",
            " [0.         0.         0.         0.         0.        ]\n",
            " [0.78571429 0.0989011  0.         0.         0.84615385]\n",
            " [0.92857143 0.09375    0.         0.84615385 0.        ]]\n",
            "sorted idxs:  [0 4 3 1 2]\n",
            "[0.         0.09137056 0.         0.78571429 0.92857143]\n",
            "remove:  3\n",
            "remove:  4\n",
            "[0.92857143 0.09375    0.         0.84615385 0.        ]\n",
            "remove:  0\n",
            "remove:  3\n",
            "[0.78571429 0.0989011  0.         0.         0.84615385]\n",
            "remove:  0\n",
            "remove:  4\n",
            "[0.09137056 0.         0.         0.0989011  0.09375   ]\n",
            "keep:  1\n",
            "[0. 0. 0. 0. 0.]\n",
            "keep:  2\n",
            "Final:  [0, 1, 2]\n"
          ]
        }
      ]
    },
    {
      "cell_type": "code",
      "source": [],
      "metadata": {
        "id": "8i0JmPnzXAH9"
      },
      "execution_count": 112,
      "outputs": []
    },
    {
      "cell_type": "code",
      "source": [
        "## Vectorized implementation\n",
        "## uses broadcasting nicely :)\n",
        "## source: https://blog.roboflow.com/how-to-code-non-maximum-suppression-nms-in-plain-numpy/\n",
        "\n",
        "def box_iou_batch(\n",
        "\tboxes_a: np.ndarray, boxes_b: np.ndarray\n",
        ") -> np.ndarray:\n",
        "\n",
        "    def box_area(box):\n",
        "        return (box[2] - box[0]) * (box[3] - box[1])\n",
        "\n",
        "    area_a = box_area(boxes_a.T)\n",
        "    area_b = box_area(boxes_b.T)\n",
        "\n",
        "    top_left = np.maximum(boxes_a[:, None, :2], boxes_b[:, :2])\n",
        "    bottom_right = np.minimum(boxes_a[:, None, 2:], boxes_b[:, 2:])\n",
        "\n",
        "    area_inter = np.prod(\n",
        "    \tnp.clip(bottom_right - top_left, a_min=0, a_max=None), 2)\n",
        "\n",
        "    return area_inter / (area_a[:, None] + area_b - area_inter)\n",
        "\n",
        "boxes_a = np.array([\n",
        "    [15, 10, 29, 35],\n",
        "    [20, 25, 45, 54],\n",
        "    [120, 25, 145, 54]\n",
        "])\n",
        "\n",
        "boxes_b = boxes_a\n",
        "\n",
        "box_iou_batch(boxes_a, boxes_b)"
      ],
      "metadata": {
        "id": "ZnlvvKRtXWf9"
      },
      "execution_count": 112,
      "outputs": []
    },
    {
      "cell_type": "code",
      "source": [],
      "metadata": {
        "id": "fr3Zy9SwXm8d"
      },
      "execution_count": 112,
      "outputs": []
    },
    {
      "cell_type": "code",
      "source": [],
      "metadata": {
        "id": "bW9CJ430f6l1"
      },
      "execution_count": 112,
      "outputs": []
    },
    {
      "cell_type": "code",
      "source": [],
      "metadata": {
        "id": "Diqfarw8gaYR"
      },
      "execution_count": 112,
      "outputs": []
    },
    {
      "cell_type": "code",
      "source": [],
      "metadata": {
        "id": "xLqAtzaOgf9n"
      },
      "execution_count": null,
      "outputs": []
    }
  ]
}