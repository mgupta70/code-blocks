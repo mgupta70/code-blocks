{
 "cells": [
  {
   "cell_type": "code",
   "execution_count": 2,
   "metadata": {
    "colab": {
     "base_uri": "https://localhost:8080/"
    },
    "id": "Uv7oh1_WL3ic",
    "outputId": "3389c3e1-106a-404c-bd29-70fca9a46bed"
   },
   "outputs": [],
   "source": [
    "import numpy as np"
   ]
  },
  {
   "cell_type": "code",
   "execution_count": 3,
   "metadata": {},
   "outputs": [
    {
     "name": "stdout",
     "output_type": "stream",
     "text": [
      "5\n",
      "[2 4 5 5]\n"
     ]
    }
   ],
   "source": [
    "## Important - Understand difference between np.max and np.maximum\n",
    "a = np.array([1,2,4,5])\n",
    "b = np.array([2,4,5,1])\n",
    "\n",
    "print(np.max(a)) # np.max gives max within an array\n",
    "print(np.maximum(a,b)) # np.maximum is used to get max between 2 or more arrays"
   ]
  },
  {
   "cell_type": "markdown",
   "metadata": {},
   "source": [
    "### Clean code"
   ]
  },
  {
   "cell_type": "code",
   "execution_count": 25,
   "metadata": {},
   "outputs": [
    {
     "name": "stdout",
     "output_type": "stream",
     "text": [
      "IOU MATRIX: \n",
      " [[0.         0.09137056 0.         0.78571429 0.92857143]\n",
      " [0.09137056 0.         0.         0.0989011  0.09375   ]\n",
      " [0.         0.         0.         0.         0.        ]\n",
      " [0.78571429 0.0989011  0.         0.         0.84615385]\n",
      " [0.92857143 0.09375    0.         0.84615385 0.        ]]\n",
      "\n",
      "boxes_to_keep:  [0, 1, 2]\n"
     ]
    }
   ],
   "source": [
    "def calculate_area(box):\n",
    "  width = box[2]-box[0]\n",
    "  height = box[3] - box[1]\n",
    "  return width*height\n",
    "\n",
    "def get_intersection(box1, box2):\n",
    "  x_l = max(box1[0], box2[0])\n",
    "  y_l = max(box1[1], box2[1])\n",
    "  x_r = min(box1[2], box2[2])\n",
    "  y_r = min(box1[3], box2[3])\n",
    "\n",
    "  if x_r>=x_l and y_r>=y_l:\n",
    "    intersecting_box = np.array([x_l, y_l, x_r, y_r])\n",
    "    intersection_area = calculate_area(intersecting_box)\n",
    "    union_area = calculate_area(box1) + calculate_area(box2) - intersection_area\n",
    "    iou = intersection_area/union_area\n",
    "    return iou\n",
    "\n",
    "  else:\n",
    "    return np.array(0)\n",
    "\n",
    "\n",
    "def get_intersectionv2(box1, box2):\n",
    "  # v2 also works fine\n",
    "  x_l = np.maximum(box1[0], box2[0]) # not np.max\n",
    "  y_l = np.maximum(box1[1], box2[1])\n",
    "  x_r = np.minimum(box1[2], box2[2])\n",
    "  y_r = np.minimum(box1[3], box2[3])\n",
    "\n",
    "  if x_r>=x_l and y_r>=y_l:\n",
    "    intersecting_box = np.array([x_l, y_l, x_r, y_r])\n",
    "    intersection_area = calculate_area(intersecting_box)\n",
    "    union_area = calculate_area(box1) + calculate_area(box2) - intersection_area\n",
    "    iou = intersection_area/union_area\n",
    "    return iou\n",
    "  else:\n",
    "    return np.array(0)\n",
    "\n",
    "def get_ioumatrix(boxes):\n",
    "  n = len(boxes)\n",
    "  iou_matrix = np.zeros((n,n))\n",
    "  for i in range(len(boxes)):\n",
    "    for j in range(len(boxes)):\n",
    "      if i!=j:\n",
    "        iou_matrix[i,j] = get_intersectionv2(boxes[i], boxes[j])\n",
    "\n",
    "  return iou_matrix\n",
    "\n",
    "# def get_ioumatrix_v2(boxes):\n",
    "#     'with broadcasting: modify later'\n",
    "#     n = len(boxes)\n",
    "#     boxes = np.array(boxes)\n",
    "#     boxes1 = boxes[:,None,:] # n,1,4\n",
    "#     boxes2 = boxes[None, :, :] # 1,n,4\n",
    "#     iou_matrix = get_intersection(boxes1, boxes2)\n",
    "#     return iou_matrix\n",
    "\n",
    "def perform_NMS(iou_matrix, conf_scores):\n",
    "    sorted_idxs = np.argsort(conf_scores)[::-1] # [::-1] for decreasing order of confidence \n",
    "    keep = []\n",
    "    keep.append(sorted_idxs[0])\n",
    "    for idx in sorted_idxs:\n",
    "        is_overlapping_with_others = (iou_matrix[idx] > 0.5).astype(float)\n",
    "        is_overlapping_with_others = np.sum(is_overlapping_with_others)\n",
    "        if is_overlapping_with_others == 0:\n",
    "            keep.append(idx)\n",
    "    return keep\n",
    "            \n",
    "################ EXAMPLE #####################\n",
    "    \n",
    "\n",
    "box1 = np.array([15, 10, 29, 35]) # x_l, y_l, x_r, y_r\n",
    "box2 = np.array([20, 25, 45, 54]) # x_l, y_l, x_r, y_r\n",
    "box3 = np.array([120, 25, 145, 54]) # x_l, y_l, x_r, y_r\n",
    "box4 = np.array([18, 10, 29, 35]) # x_l, y_l, x_r, y_r\n",
    "box5 = np.array([16, 10, 29, 35]) # x_l, y_l, x_r, y_r\n",
    "scores = np.array([0.9, 0.8, 0.7, 0.85, 0.88]) ## confidence\n",
    "\n",
    "# combine all boxes in an array\n",
    "boxes = [box1, box2, box3, box4, box5]\n",
    "boxes = np.array(boxes)\n",
    "\n",
    "# compute IOU matrix\n",
    "iou_matrix = get_ioumatrix(boxes)\n",
    "print('IOU MATRIX: \\n', iou_matrix)\n",
    "\n",
    "# perform NMS\n",
    "boxes_to_keep = perform_NMS(iou_matrix, scores)\n",
    "print('\\nboxes_to_keep: ', boxes_to_keep)"
   ]
  },
  {
   "cell_type": "code",
   "execution_count": null,
   "metadata": {},
   "outputs": [],
   "source": []
  },
  {
   "cell_type": "markdown",
   "metadata": {},
   "source": [
    "### Code development"
   ]
  },
  {
   "cell_type": "code",
   "execution_count": 8,
   "metadata": {
    "colab": {
     "base_uri": "https://localhost:8080/"
    },
    "id": "Uv7oh1_WL3ic",
    "outputId": "3389c3e1-106a-404c-bd29-70fca9a46bed"
   },
   "outputs": [
    {
     "name": "stdout",
     "output_type": "stream",
     "text": [
      "area1:  350\n",
      "area2:  725\n",
      "area3:  725\n",
      "IOU_1-2:  0.09137055837563451\n",
      "NO intersection\n",
      "IOU_1-3:  0\n",
      "IOU1_1:  1.0\n"
     ]
    }
   ],
   "source": [
    "box1 = np.array([15, 10, 29, 35]) # x_l, y_l, x_r, y_r\n",
    "box2 = np.array([20, 25, 45, 54]) # x_l, y_l, x_r, y_r\n",
    "box3 = np.array([120, 25, 145, 54]) # x_l, y_l, x_r, y_r\n",
    "\n",
    "boxes = [box1, box2, box3]\n",
    "\n",
    "def calculate_area(box):\n",
    "  width = box[2]-box[0]\n",
    "  height = box[3] - box[1]\n",
    "  return width*height\n",
    "\n",
    "def get_intersection(box1, box2):\n",
    "  x_l = max(box1[0], box2[0])\n",
    "  y_l = max(box1[1], box2[1])\n",
    "\n",
    "  x_r = min(box1[2], box2[2])\n",
    "  y_r = min(box1[3], box2[3])\n",
    "\n",
    "  if x_r>=x_l and y_r>=y_l:\n",
    "\n",
    "    intersecting_box = np.array([x_l, y_l, x_r, y_r])\n",
    "    #print('Intersection coordinates: ', intersecting_box)\n",
    "    intersection_area = calculate_area(intersecting_box)\n",
    "    union_area = calculate_area(box1) + calculate_area(box2) - intersection_area\n",
    "    #print('IOU/Union: ', intersection_area, '/', union_area)\n",
    "    iou = intersection_area/union_area\n",
    "    return iou\n",
    "\n",
    "  else:\n",
    "    print('NO intersection')\n",
    "    return np.array(0)\n",
    "\n",
    "\n",
    "\n",
    "def get_intersectionv2(box1, box2):\n",
    "  # v2 also works fine\n",
    "  x_l = np.maximum(box1[0], box2[0]) # not np.max\n",
    "  y_l = np.maximum(box1[1], box2[1])\n",
    "\n",
    "  x_r = np.minimum(box1[2], box2[2])\n",
    "  y_r = np.minimum(box1[3], box2[3])\n",
    "\n",
    "  if x_r>=x_l and y_r>=y_l:\n",
    "\n",
    "    intersecting_box = np.array([x_l, y_l, x_r, y_r])\n",
    "    #print('Intersection coordinates: ', intersecting_box)\n",
    "    intersection_area = calculate_area(intersecting_box)\n",
    "    union_area = calculate_area(box1) + calculate_area(box2) - intersection_area\n",
    "    #print('IOU/Union: ', intersection_area, '/', union_area)\n",
    "    iou = intersection_area/union_area\n",
    "\n",
    "    return iou\n",
    "\n",
    "  else:\n",
    "    #print('NO intersection')\n",
    "    return np.array(0)\n",
    "\n",
    "print('area1: ', calculate_area(box1))\n",
    "print('area2: ', calculate_area(box2))\n",
    "print('area3: ', calculate_area(box3))\n",
    "print('IOU_1-2: ', get_intersection(box1, box2))\n",
    "print('IOU_1-3: ', get_intersection(box1, box3)) ## no intersection\n",
    "print('IOU1_1: ', get_intersection(box1, box1)) ## perfect overlap"
   ]
  },
  {
   "cell_type": "code",
   "execution_count": 10,
   "metadata": {
    "colab": {
     "base_uri": "https://localhost:8080/"
    },
    "id": "FSwwm5okN7TA",
    "outputId": "094ef529-68c9-44e3-f647-1beac9db2e2c"
   },
   "outputs": [
    {
     "name": "stdout",
     "output_type": "stream",
     "text": [
      "NO intersection\n",
      "NO intersection\n",
      "NO intersection\n",
      "NO intersection\n",
      "[[0.         0.09137056 0.        ]\n",
      " [0.09137056 0.         0.        ]\n",
      " [0.         0.         0.        ]]\n"
     ]
    }
   ],
   "source": [
    "boxes = [box1, box2, box3]\n",
    "\n",
    "n = len(boxes)\n",
    "iou_matrix = np.zeros((n,n))\n",
    "for i in range(len(boxes)):\n",
    "  for j in range(len(boxes)):\n",
    "    if i!=j:\n",
    "      iou_matrix[i,j] = get_intersection(boxes[i], boxes[j])\n",
    "\n",
    "print(iou_matrix)\n",
    "\n",
    "\n",
    "def get_ioumatrix(boxes):\n",
    "  n = len(boxes)\n",
    "  iou_matrix = np.zeros((n,n))\n",
    "  for i in range(len(boxes)):\n",
    "    for j in range(len(boxes)):\n",
    "      if i!=j:\n",
    "        iou_matrix[i,j] = get_intersection(boxes[i], boxes[j])\n",
    "\n",
    "  return iou_matrix\n"
   ]
  },
  {
   "cell_type": "code",
   "execution_count": 11,
   "metadata": {
    "id": "cZJw3rifQRpa"
   },
   "outputs": [],
   "source": [
    "# ### NMS\n",
    "\n",
    "# ## putting everything together\n",
    "\n",
    "# def calculate_area(box):\n",
    "#   width = box[2]-box[0]\n",
    "#   height = box[3] - box[1]\n",
    "#   return width*height\n",
    "\n",
    "# def get_intersection(box1, box2):\n",
    "#   x_l = max(box1[0], box2[0])\n",
    "#   y_l = max(box1[1], box2[1])\n",
    "#   x_r = min(box1[2], box2[2])\n",
    "#   y_r = min(box1[3], box2[3])\n",
    "\n",
    "#   if x_r>=x_l and y_r>=y_l:\n",
    "#     intersecting_box = np.array([x_l, y_l, x_r, y_r])\n",
    "#     intersection_area = calculate_area(intersecting_box)\n",
    "#     union_area = calculate_area(box1) + calculate_area(box2) - intersection_area\n",
    "#     iou = intersection_area/union_area\n",
    "#     return iou\n",
    "\n",
    "#   else:\n",
    "#     return np.array(0)\n",
    "\n",
    "\n"
   ]
  },
  {
   "cell_type": "code",
   "execution_count": 112,
   "metadata": {
    "colab": {
     "base_uri": "https://localhost:8080/"
    },
    "id": "7yV-eSWPQT-9",
    "outputId": "03770432-fe55-4d75-b454-ce79cbe4b561"
   },
   "outputs": [
    {
     "name": "stdout",
     "output_type": "stream",
     "text": [
      "[[0.         0.09137056 0.         0.78571429 0.92857143]\n",
      " [0.09137056 0.         0.         0.0989011  0.09375   ]\n",
      " [0.         0.         0.         0.         0.        ]\n",
      " [0.78571429 0.0989011  0.         0.         0.84615385]\n",
      " [0.92857143 0.09375    0.         0.84615385 0.        ]]\n",
      "sorted idxs:  [0 4 3 1 2]\n",
      "[0.         0.09137056 0.         0.78571429 0.92857143]\n",
      "remove:  3\n",
      "remove:  4\n",
      "[0.92857143 0.09375    0.         0.84615385 0.        ]\n",
      "remove:  0\n",
      "remove:  3\n",
      "[0.78571429 0.0989011  0.         0.         0.84615385]\n",
      "remove:  0\n",
      "remove:  4\n",
      "[0.09137056 0.         0.         0.0989011  0.09375   ]\n",
      "keep:  1\n",
      "[0. 0. 0. 0. 0.]\n",
      "keep:  2\n",
      "Final:  [0, 1, 2]\n"
     ]
    }
   ],
   "source": [
    "box1 = np.array([15, 10, 29, 35]) # x_l, y_l, x_r, y_r\n",
    "box2 = np.array([20, 25, 45, 54]) # x_l, y_l, x_r, y_r\n",
    "box3 = np.array([120, 25, 145, 54]) # x_l, y_l, x_r, y_r\n",
    "box4 = np.array([18, 10, 29, 35]) # x_l, y_l, x_r, y_r\n",
    "box5 = np.array([16, 10, 29, 35]) # x_l, y_l, x_r, y_r\n",
    "\n",
    "scores = np.array([0.9, 0.8, 0.7, 0.85, 0.88]) ## confidence\n",
    "\n",
    "boxes = [box1, box2, box3, box4, box5]\n",
    "iou_matrix = get_ioumatrix(boxes)\n",
    "print(iou_matrix)\n",
    "\n",
    "boxes_arr = np.stack(boxes)\n",
    "\n",
    "idxs = np.argsort(scores)[::-1] # [::-1] for reversing\n",
    "print('sorted idxs: ', idxs)\n",
    "\n",
    "\n",
    "keep = []\n",
    "keep.append(idxs[0])\n",
    "for idx in idxs:\n",
    "  print(iou_matrix[idx])\n",
    "  to_remove = (iou_matrix[idx]>0.5).nonzero()[0]\n",
    "\n",
    "  if to_remove.size>0:\n",
    "    for idx_r in to_remove:\n",
    "      print('remove: ', idx_r)\n",
    "\n",
    "  else:\n",
    "    print('keep: ', idx )\n",
    "    keep.append(idx)\n",
    "\n",
    "print('Final: ', keep)\n"
   ]
  },
  {
   "cell_type": "code",
   "execution_count": 112,
   "metadata": {
    "id": "8i0JmPnzXAH9"
   },
   "outputs": [],
   "source": []
  },
  {
   "cell_type": "code",
   "execution_count": 112,
   "metadata": {
    "id": "ZnlvvKRtXWf9"
   },
   "outputs": [],
   "source": [
    "## Vectorized implementation\n",
    "## uses broadcasting nicely :)\n",
    "## source: https://blog.roboflow.com/how-to-code-non-maximum-suppression-nms-in-plain-numpy/\n",
    "\n",
    "def box_iou_batch(\n",
    "\tboxes_a: np.ndarray, boxes_b: np.ndarray\n",
    ") -> np.ndarray:\n",
    "\n",
    "    def box_area(box):\n",
    "        return (box[2] - box[0]) * (box[3] - box[1])\n",
    "\n",
    "    area_a = box_area(boxes_a.T)\n",
    "    area_b = box_area(boxes_b.T)\n",
    "\n",
    "    top_left = np.maximum(boxes_a[:, None, :2], boxes_b[:, :2])\n",
    "    bottom_right = np.minimum(boxes_a[:, None, 2:], boxes_b[:, 2:])\n",
    "\n",
    "    area_inter = np.prod(\n",
    "    \tnp.clip(bottom_right - top_left, a_min=0, a_max=None), 2)\n",
    "\n",
    "    return area_inter / (area_a[:, None] + area_b - area_inter)\n",
    "\n",
    "boxes_a = np.array([\n",
    "    [15, 10, 29, 35],\n",
    "    [20, 25, 45, 54],\n",
    "    [120, 25, 145, 54]\n",
    "])\n",
    "\n",
    "boxes_b = boxes_a\n",
    "\n",
    "box_iou_batch(boxes_a, boxes_b)"
   ]
  },
  {
   "cell_type": "code",
   "execution_count": 112,
   "metadata": {
    "id": "fr3Zy9SwXm8d"
   },
   "outputs": [],
   "source": []
  },
  {
   "cell_type": "code",
   "execution_count": 112,
   "metadata": {
    "id": "bW9CJ430f6l1"
   },
   "outputs": [],
   "source": []
  },
  {
   "cell_type": "code",
   "execution_count": 112,
   "metadata": {
    "id": "Diqfarw8gaYR"
   },
   "outputs": [],
   "source": []
  },
  {
   "cell_type": "code",
   "execution_count": null,
   "metadata": {
    "id": "xLqAtzaOgf9n"
   },
   "outputs": [],
   "source": []
  },
  {
   "cell_type": "code",
   "execution_count": null,
   "metadata": {},
   "outputs": [],
   "source": []
  }
 ],
 "metadata": {
  "colab": {
   "provenance": []
  },
  "kernelspec": {
   "display_name": "Python 3 (ipykernel)",
   "language": "python",
   "name": "python3"
  },
  "language_info": {
   "codemirror_mode": {
    "name": "ipython",
    "version": 3
   },
   "file_extension": ".py",
   "mimetype": "text/x-python",
   "name": "python",
   "nbconvert_exporter": "python",
   "pygments_lexer": "ipython3",
   "version": "3.9.19"
  }
 },
 "nbformat": 4,
 "nbformat_minor": 4
}
