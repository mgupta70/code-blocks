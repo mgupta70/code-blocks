{
 "cells": [
  {
   "cell_type": "markdown",
   "id": "022892d6-d220-4075-8e89-1c37823a3d37",
   "metadata": {},
   "source": [
    "Built from wonderful book - https://github.com/jakevdp/PythonDataScienceHandbook"
   ]
  },
  {
   "cell_type": "code",
   "execution_count": 2,
   "id": "b0322208-c4c2-4e3b-8f55-5e9ee7e5627d",
   "metadata": {},
   "outputs": [],
   "source": [
    "import numpy as np"
   ]
  },
  {
   "cell_type": "code",
   "execution_count": 2,
   "id": "f15b18a0-95c5-41c5-8907-fec919689699",
   "metadata": {},
   "outputs": [
    {
     "data": {
      "text/plain": [
       "array([1, 2, 4, 6])"
      ]
     },
     "execution_count": 2,
     "metadata": {},
     "output_type": "execute_result"
    }
   ],
   "source": [
    "np.array([1,2,4,6])"
   ]
  },
  {
   "cell_type": "code",
   "execution_count": 4,
   "id": "fb1e0666-6dd2-4513-8f9a-639727afc2dc",
   "metadata": {},
   "outputs": [
    {
     "data": {
      "text/plain": [
       "array([1., 2., 4., 6.], dtype=float32)"
      ]
     },
     "execution_count": 4,
     "metadata": {},
     "output_type": "execute_result"
    }
   ],
   "source": [
    "np.array([1,2,4,6], dtype = 'float32')"
   ]
  },
  {
   "cell_type": "code",
   "execution_count": 5,
   "id": "575e2879-f0d5-4d9c-9bac-ec910490f6cf",
   "metadata": {},
   "outputs": [
    {
     "data": {
      "text/plain": [
       "array([1, 2, 4, 6])"
      ]
     },
     "execution_count": 5,
     "metadata": {},
     "output_type": "execute_result"
    }
   ],
   "source": [
    "np.array([1.3, 2.5 ,4,6], dtype = int)"
   ]
  },
  {
   "cell_type": "code",
   "execution_count": 6,
   "id": "bf5cf267-3067-49bf-a063-5409a6ad7e29",
   "metadata": {},
   "outputs": [
    {
     "data": {
      "text/plain": [
       "array([1.3, 2.5, 4. , 6. ])"
      ]
     },
     "execution_count": 6,
     "metadata": {},
     "output_type": "execute_result"
    }
   ],
   "source": [
    "np.array([1.3, 2.5 ,4,6], dtype = float)"
   ]
  },
  {
   "cell_type": "code",
   "execution_count": 11,
   "id": "fdb131ef-7e13-4154-af31-dc84b7cbb74b",
   "metadata": {},
   "outputs": [
    {
     "data": {
      "text/plain": [
       "array([[0.67331537, 0.58414402],\n",
       "       [0.11715069, 0.06728735],\n",
       "       [0.89133443, 0.53696526]])"
      ]
     },
     "execution_count": 11,
     "metadata": {},
     "output_type": "execute_result"
    }
   ],
   "source": [
    "## uniformly distributed random values between 0 & 1\n",
    "np.random.random((3,2))"
   ]
  },
  {
   "cell_type": "code",
   "execution_count": 13,
   "id": "9bd09a88-88d9-4e4a-8636-1ee127b324b6",
   "metadata": {},
   "outputs": [
    {
     "data": {
      "text/plain": [
       "array([[-0.37081951,  0.35305599],\n",
       "       [-0.24237967, -1.1929943 ],\n",
       "       [-1.69440667,  0.71284138]])"
      ]
     },
     "execution_count": 13,
     "metadata": {},
     "output_type": "execute_result"
    }
   ],
   "source": [
    "## gaussian distribution: random values with mean=0 and std=1\n",
    "np.random.randn(3,2)"
   ]
  },
  {
   "cell_type": "code",
   "execution_count": 14,
   "id": "d45e0b3f-881b-4b41-83d2-9ee2fae3ceac",
   "metadata": {},
   "outputs": [
    {
     "data": {
      "text/plain": [
       "array([[-2.38289193,  0.24988464],\n",
       "       [-0.46452397,  0.49530669],\n",
       "       [ 1.30490215, -0.92265913]])"
      ]
     },
     "execution_count": 14,
     "metadata": {},
     "output_type": "execute_result"
    }
   ],
   "source": [
    "## gaussian distribution: random values with mean=0 and std=1\n",
    "np.random.normal(loc = 0, scale = 1, size = (3,2))"
   ]
  },
  {
   "cell_type": "code",
   "execution_count": 16,
   "id": "d439f3f4-03b9-4b07-82cf-8b5875793816",
   "metadata": {},
   "outputs": [
    {
     "data": {
      "text/plain": [
       "array([[3, 1],\n",
       "       [0, 1],\n",
       "       [3, 2]])"
      ]
     },
     "execution_count": 16,
     "metadata": {},
     "output_type": "execute_result"
    }
   ],
   "source": [
    "np.random.randint(low = 0, high = 4, size = (3,2))"
   ]
  },
  {
   "cell_type": "code",
   "execution_count": 19,
   "id": "4a529249-76bb-47ed-b5c6-9c58eebb6206",
   "metadata": {},
   "outputs": [
    {
     "data": {
      "text/plain": [
       "(array([8, 3, 1, 8, 5, 7]),\n",
       " array([[2, 9, 6, 8],\n",
       "        [7, 5, 0, 2],\n",
       "        [7, 8, 2, 8]]),\n",
       " array([[[4, 8, 6, 1, 6],\n",
       "         [3, 4, 2, 7, 2],\n",
       "         [0, 8, 2, 3, 2],\n",
       "         [1, 0, 7, 3, 2]],\n",
       " \n",
       "        [[7, 4, 7, 9, 5],\n",
       "         [0, 0, 6, 6, 6],\n",
       "         [4, 5, 4, 8, 3],\n",
       "         [4, 5, 6, 7, 0]],\n",
       " \n",
       "        [[7, 1, 3, 3, 7],\n",
       "         [5, 3, 2, 9, 2],\n",
       "         [0, 4, 6, 5, 5],\n",
       "         [2, 9, 8, 9, 2]]]))"
      ]
     },
     "execution_count": 19,
     "metadata": {},
     "output_type": "execute_result"
    }
   ],
   "source": [
    "x1 = np.random.randint(10, size=6)  # One-dimensional array\n",
    "x2 = np.random.randint(10, size=(3, 4))  # Two-dimensional array\n",
    "x3 = np.random.randint(10, size=(3, 4, 5))  # Three-dimensional array\n",
    "x1, x2, x3"
   ]
  },
  {
   "cell_type": "code",
   "execution_count": 24,
   "id": "7ebc980e-5b63-45dd-869f-f0346bee19cb",
   "metadata": {},
   "outputs": [
    {
     "name": "stdout",
     "output_type": "stream",
     "text": [
      "x1 ndim:  1\n",
      "x1 shape: (6,)\n",
      "x1 size:  6\n",
      "itemsize: 4 bytes\n",
      "nbytes: 24 bytes\n",
      "\n",
      "x2 ndim:  2\n",
      "x2 shape: (3, 4)\n",
      "x2 size:  12\n",
      "itemsize: 4 bytes\n",
      "nbytes: 48 bytes\n",
      "\n",
      "x3 ndim:  3\n",
      "x3 shape: (3, 4, 5)\n",
      "x3 size:  60\n",
      "itemsize: 4 bytes\n",
      "nbytes: 240 bytes\n"
     ]
    }
   ],
   "source": [
    "print(\"x1 ndim: \", x1.ndim)\n",
    "print(\"x1 shape:\", x1.shape)\n",
    "print(\"x1 size: \", x1.size)\n",
    "print(\"itemsize:\", x1.itemsize, \"bytes\")\n",
    "print(\"nbytes:\", x1.nbytes, \"bytes\")\n",
    "print()\n",
    "print(\"x2 ndim: \", x2.ndim)\n",
    "print(\"x2 shape:\", x2.shape)\n",
    "print(\"x2 size: \", x2.size)\n",
    "print(\"itemsize:\", x2.itemsize, \"bytes\")\n",
    "print(\"nbytes:\", x2.nbytes, \"bytes\")\n",
    "print()\n",
    "print(\"x3 ndim: \", x3.ndim)\n",
    "print(\"x3 shape:\", x3.shape)\n",
    "print(\"x3 size: \", x3.size)\n",
    "print(\"itemsize:\", x3.itemsize, \"bytes\")\n",
    "print(\"nbytes:\", x3.nbytes, \"bytes\")"
   ]
  },
  {
   "cell_type": "markdown",
   "id": "bed7332f-896e-407f-9f43-7c9d6eaf1ea9",
   "metadata": {},
   "source": [
    "Array slicing `x[start:stop:step]`\n",
    "\n",
    "defaults- \n",
    "- start = 0\n",
    "- stop = size of dimension\n",
    "- step = 1"
   ]
  },
  {
   "cell_type": "code",
   "execution_count": 33,
   "id": "6a0863de-0dfe-4dd9-b850-d3eab076c51f",
   "metadata": {},
   "outputs": [
    {
     "name": "stdout",
     "output_type": "stream",
     "text": [
      "[ 0  1  2  3  4  5  6  7  8  9 10 11 12 13 14 15 16 17 18 19]\n",
      "[ 0  2  4  6  8 10 12 14 16 18]\n",
      "[ 1  3  5  7  9 11 13 15 17 19]\n",
      "[19 18 17 16 15 14 13 12 11 10  9  8  7  6  5  4  3  2  1  0]\n",
      "\n",
      "[[ 1  6  5  8]\n",
      " [13 12  7  4]\n",
      " [ 6  3  8  7]]\n",
      "\n",
      "[[1 6 5 8]\n",
      " [6 3 8 7]]\n",
      "\n",
      "[[13 12  7  4]]\n",
      "\n",
      "[[ 6  3  8  7]\n",
      " [13 12  7  4]\n",
      " [ 1  6  5  8]]\n",
      "\n",
      "[[ 1  5]\n",
      " [13  7]\n",
      " [ 6  8]]\n",
      "\n",
      "[[ 7  8  3  6]\n",
      " [ 4  7 12 13]\n",
      " [ 8  5  6  1]]\n"
     ]
    }
   ],
   "source": [
    "# 1D- array\n",
    "x = np.arange(20)\n",
    "print(x)\n",
    "print(x[::2])\n",
    "print(x[1::2])\n",
    "print(x[::-1]) # reverese\n",
    "\n",
    "# 2D- array\n",
    "x = np.random.randint(20, size=(3,4))\n",
    "print()\n",
    "print(x)\n",
    "print()\n",
    "print(x[::2])\n",
    "print()\n",
    "print(x[1::2])\n",
    "print()\n",
    "print(x[::-1]) # not reverse for >=2D\n",
    "print()\n",
    "print(x[:3, ::2]) #  all rows, every other column\n",
    "print()\n",
    "print(x[::-1, ::-1]) # reverse"
   ]
  },
  {
   "cell_type": "code",
   "execution_count": 38,
   "id": "d4f2b73b-a1b5-43c8-9c64-a058076dcd66",
   "metadata": {},
   "outputs": [
    {
     "name": "stdout",
     "output_type": "stream",
     "text": [
      "(3,)\n",
      "(3, 1)\n",
      "(1, 3)\n",
      "(3, 1)\n",
      "(1, 3)\n",
      "\n",
      "(2, 3)\n",
      "(2, 1, 3)\n",
      "(1, 2, 3)\n",
      "(2, 3, 1)\n",
      "(2, 1, 3)\n",
      "(1, 2, 3)\n",
      "(1, 2, 3)\n"
     ]
    }
   ],
   "source": [
    "x = np.array([1,2,3])\n",
    "print(x.shape)\n",
    "print(x[:,None].shape)\n",
    "print(x[None,:].shape)\n",
    "print(x[:, np.newaxis].shape)\n",
    "print(x[np.newaxis, :].shape)\n",
    "print()\n",
    "x = np.random.randn(2,3)\n",
    "print(x.shape)\n",
    "print(x[:,None].shape)\n",
    "print(x[None,:].shape)\n",
    "print(x[:,:, None].shape)\n",
    "print(x[:, np.newaxis].shape)\n",
    "print(x[np.newaxis, :].shape)\n",
    "print(x[np.newaxis, :, :].shape)"
   ]
  },
  {
   "cell_type": "code",
   "execution_count": 40,
   "id": "660c0232-fedf-447b-867c-8a72af9dc4d4",
   "metadata": {},
   "outputs": [
    {
     "name": "stdout",
     "output_type": "stream",
     "text": [
      "[1, 2, 3, 99, 99, 3, 2, 1]\n",
      "[1 2 3] [99 99] [3 2 1]\n",
      "\n",
      "[[ 0  1  2  3]\n",
      " [ 4  5  6  7]\n",
      " [ 8  9 10 11]\n",
      " [12 13 14 15]]\n",
      "[[0 1 2 3]\n",
      " [4 5 6 7]]\n",
      "[[ 8  9 10 11]\n",
      " [12 13 14 15]]\n",
      "[[ 0  1]\n",
      " [ 4  5]\n",
      " [ 8  9]\n",
      " [12 13]]\n",
      "[[ 2  3]\n",
      " [ 6  7]\n",
      " [10 11]\n",
      " [14 15]]\n"
     ]
    }
   ],
   "source": [
    "x = [1, 2, 3, 99, 99, 3, 2, 1]\n",
    "x1, x2, x3 = np.split(x, [3, 5])\n",
    "print(x)\n",
    "print(x1, x2, x3)\n",
    "print()\n",
    "\n",
    "grid = np.arange(16).reshape((4, 4))\n",
    "print(grid)\n",
    "upper, lower = np.vsplit(grid, [2])\n",
    "print(upper)\n",
    "print(lower)\n",
    "left, right = np.hsplit(grid, [2])\n",
    "print(left)\n",
    "print(right)\n"
   ]
  },
  {
   "cell_type": "code",
   "execution_count": 52,
   "id": "68b5c8ed-5bbc-462b-8d12-b640d2c9be96",
   "metadata": {},
   "outputs": [
    {
     "data": {
      "text/plain": [
       "(4.61512051684126,\n",
       " 4.624972813284271,\n",
       " 'vs',\n",
       " 0.0009995003330834232,\n",
       " 0.6936470556015963)"
      ]
     },
     "execution_count": 52,
     "metadata": {},
     "output_type": "execute_result"
    }
   ],
   "source": [
    "np.log(1+100), np.log1p(1+100),'vs' , np.log(1+0.001), np.log1p(1+0.001)"
   ]
  },
  {
   "cell_type": "markdown",
   "id": "02997181-43c6-4cda-b164-5ee163c245e8",
   "metadata": {},
   "source": [
    "##### Broadcasting"
   ]
  },
  {
   "cell_type": "markdown",
   "id": "252d711d-83be-4a40-9c14-52fdd3c40110",
   "metadata": {},
   "source": [
    "1. Rule 1\n",
    "2. Rule 2\n",
    "3. Rule 3\n",
    "- Read here - https://jakevdp.github.io/PythonDataScienceHandbook/02.05-computation-on-arrays-broadcasting.html"
   ]
  },
  {
   "cell_type": "markdown",
   "id": "213fa182-7550-4d88-a175-53179a5cb180",
   "metadata": {},
   "source": [
    "##### Boolean"
   ]
  },
  {
   "cell_type": "markdown",
   "id": "a0cd8e3f-61b3-440d-825b-aa4d3a6536c6",
   "metadata": {},
   "source": [
    "`==`, `>`, `<`, `!=`, `>=`, `<=`"
   ]
  },
  {
   "cell_type": "code",
   "execution_count": 53,
   "id": "c62ab615-6a89-4456-84dd-adef2bbfde63",
   "metadata": {},
   "outputs": [
    {
     "data": {
      "text/plain": [
       "array([[4, 5, 9, 1],\n",
       "       [6, 6, 2, 9],\n",
       "       [7, 3, 3, 0],\n",
       "       [6, 3, 6, 5]])"
      ]
     },
     "execution_count": 53,
     "metadata": {},
     "output_type": "execute_result"
    }
   ],
   "source": [
    "a = np.random.randint(0,10, (4,4))\n",
    "a"
   ]
  },
  {
   "cell_type": "code",
   "execution_count": 54,
   "id": "7bedf065-d9c6-4427-91b1-e433cb50a0d9",
   "metadata": {},
   "outputs": [
    {
     "data": {
      "text/plain": [
       "array([[False,  True,  True, False],\n",
       "       [ True,  True, False,  True],\n",
       "       [ True, False, False, False],\n",
       "       [ True, False,  True,  True]])"
      ]
     },
     "execution_count": 54,
     "metadata": {},
     "output_type": "execute_result"
    }
   ],
   "source": [
    "a>4"
   ]
  },
  {
   "cell_type": "code",
   "execution_count": 55,
   "id": "b562c2b1-2a2a-4f0a-b43b-6b4a731872ae",
   "metadata": {},
   "outputs": [
    {
     "data": {
      "text/plain": [
       "9"
      ]
     },
     "execution_count": 55,
     "metadata": {},
     "output_type": "execute_result"
    }
   ],
   "source": [
    "np.sum(a>4)"
   ]
  },
  {
   "cell_type": "code",
   "execution_count": 56,
   "id": "782a25b4-7f0b-46c1-8e04-ee17cf899ac9",
   "metadata": {},
   "outputs": [
    {
     "data": {
      "text/plain": [
       "9"
      ]
     },
     "execution_count": 56,
     "metadata": {},
     "output_type": "execute_result"
    }
   ],
   "source": [
    "np.count_nonzero(a > 4)"
   ]
  },
  {
   "cell_type": "code",
   "execution_count": 58,
   "id": "c5ab46d0-b0ef-4b40-8dbb-82f6d4ca8e5c",
   "metadata": {},
   "outputs": [
    {
     "data": {
      "text/plain": [
       "True"
      ]
     },
     "execution_count": 58,
     "metadata": {},
     "output_type": "execute_result"
    }
   ],
   "source": [
    "np.any(a > 4)"
   ]
  },
  {
   "cell_type": "code",
   "execution_count": 59,
   "id": "c89c1c29-751c-4fcb-a4c3-089577e51bcb",
   "metadata": {},
   "outputs": [
    {
     "data": {
      "text/plain": [
       "False"
      ]
     },
     "execution_count": 59,
     "metadata": {},
     "output_type": "execute_result"
    }
   ],
   "source": [
    "np.all(a > 8)"
   ]
  },
  {
   "cell_type": "code",
   "execution_count": 60,
   "id": "055983ff-683a-4ebe-bf45-af8cac679181",
   "metadata": {},
   "outputs": [
    {
     "data": {
      "text/plain": [
       "True"
      ]
     },
     "execution_count": 60,
     "metadata": {},
     "output_type": "execute_result"
    }
   ],
   "source": [
    "np.all(a > -1)"
   ]
  },
  {
   "cell_type": "code",
   "execution_count": 3,
   "id": "bd00a71c-ed52-4482-8d12-be1a98a9d062",
   "metadata": {},
   "outputs": [
    {
     "data": {
      "text/plain": [
       "array([[ 6,  2,  0,  1],\n",
       "       [17, 13, 19,  5],\n",
       "       [ 7, 12, 17, 12],\n",
       "       [ 2,  7, 11,  8]])"
      ]
     },
     "execution_count": 3,
     "metadata": {},
     "output_type": "execute_result"
    }
   ],
   "source": [
    "inches = np.random.randint(0, 20, (4,4))\n",
    "inches"
   ]
  },
  {
   "cell_type": "code",
   "execution_count": 7,
   "id": "60fb0830-0e21-4d89-889b-f9ee2dbd01a4",
   "metadata": {},
   "outputs": [
    {
     "data": {
      "text/plain": [
       "array([17, 13, 19, 12, 17, 12, 11])"
      ]
     },
     "execution_count": 7,
     "metadata": {},
     "output_type": "execute_result"
    }
   ],
   "source": [
    "rainy = inches > 10\n",
    "inches[rainy]"
   ]
  },
  {
   "cell_type": "code",
   "execution_count": 5,
   "id": "98b9d09c-de2b-4261-ac50-cd5ea485c405",
   "metadata": {},
   "outputs": [
    {
     "data": {
      "text/plain": [
       "array([13, 12, 12, 11])"
      ]
     },
     "execution_count": 5,
     "metadata": {},
     "output_type": "execute_result"
    }
   ],
   "source": [
    "rainy = (inches > 10) & (inches < 15)\n",
    "inches[rainy]"
   ]
  },
  {
   "cell_type": "markdown",
   "id": "457a34a9-2dbd-4ca2-9ad3-b620d3f9ef72",
   "metadata": {},
   "source": [
    "` or `, ` | `, ` and `, ` & ` - https://jakevdp.github.io/PythonDataScienceHandbook/02.06-boolean-arrays-and-masks.html"
   ]
  },
  {
   "cell_type": "code",
   "execution_count": 8,
   "id": "5d8014e1-9070-40f9-a520-1d0702cd8950",
   "metadata": {},
   "outputs": [
    {
     "data": {
      "text/plain": [
       "array([59, 67, 52, 53, 23, 20, 33, 94, 54, 28, 31, 29, 81,  5, 95, 83, 70,\n",
       "       40, 15, 37])"
      ]
     },
     "execution_count": 8,
     "metadata": {},
     "output_type": "execute_result"
    }
   ],
   "source": [
    "a = np.arange(100)\n",
    "np.random.choice(a, 20, replace = False)"
   ]
  },
  {
   "cell_type": "markdown",
   "id": "d5a82317-287b-46bd-9bb0-3ec564bba48c",
   "metadata": {},
   "source": [
    "binning values"
   ]
  },
  {
   "cell_type": "code",
   "execution_count": null,
   "id": "bff342d8-9429-4791-a8a7-f66901d8f2e0",
   "metadata": {},
   "outputs": [],
   "source": []
  }
 ],
 "metadata": {
  "kernelspec": {
   "display_name": "Python 3 (ipykernel)",
   "language": "python",
   "name": "python3"
  },
  "language_info": {
   "codemirror_mode": {
    "name": "ipython",
    "version": 3
   },
   "file_extension": ".py",
   "mimetype": "text/x-python",
   "name": "python",
   "nbconvert_exporter": "python",
   "pygments_lexer": "ipython3",
   "version": "3.9.19"
  }
 },
 "nbformat": 4,
 "nbformat_minor": 5
}
